{
 "cells": [
  {
   "cell_type": "code",
   "execution_count": 1,
   "id": "dac8ed92",
   "metadata": {},
   "outputs": [],
   "source": [
    "# Import libraries\n",
    "import numpy as np\n",
    "import pandas as pd\n",
    "import matplotlib.pyplot as plt\n",
    "import time"
   ]
  },
  {
   "cell_type": "markdown",
   "id": "27591203",
   "metadata": {},
   "source": [
    "## Data Pre-Processing"
   ]
  },
  {
   "cell_type": "code",
   "execution_count": 5,
   "id": "52e72935",
   "metadata": {},
   "outputs": [
    {
     "data": {
      "text/html": [
       "<div>\n",
       "<style scoped>\n",
       "    .dataframe tbody tr th:only-of-type {\n",
       "        vertical-align: middle;\n",
       "    }\n",
       "\n",
       "    .dataframe tbody tr th {\n",
       "        vertical-align: top;\n",
       "    }\n",
       "\n",
       "    .dataframe thead th {\n",
       "        text-align: right;\n",
       "    }\n",
       "</style>\n",
       "<table border=\"1\" class=\"dataframe\">\n",
       "  <thead>\n",
       "    <tr style=\"text-align: right;\">\n",
       "      <th></th>\n",
       "      <th>UDI</th>\n",
       "      <th>Product ID</th>\n",
       "      <th>Type</th>\n",
       "      <th>Air temperature [K]</th>\n",
       "      <th>Process temperature [K]</th>\n",
       "      <th>Rotational speed [rpm]</th>\n",
       "      <th>Torque [Nm]</th>\n",
       "      <th>Tool wear [min]</th>\n",
       "      <th>Machine failure</th>\n",
       "      <th>TWF</th>\n",
       "      <th>HDF</th>\n",
       "      <th>PWF</th>\n",
       "      <th>OSF</th>\n",
       "      <th>RNF</th>\n",
       "    </tr>\n",
       "  </thead>\n",
       "  <tbody>\n",
       "    <tr>\n",
       "      <th>0</th>\n",
       "      <td>1</td>\n",
       "      <td>M14860</td>\n",
       "      <td>M</td>\n",
       "      <td>298.1</td>\n",
       "      <td>308.6</td>\n",
       "      <td>1551</td>\n",
       "      <td>42.8</td>\n",
       "      <td>0</td>\n",
       "      <td>0</td>\n",
       "      <td>0</td>\n",
       "      <td>0</td>\n",
       "      <td>0</td>\n",
       "      <td>0</td>\n",
       "      <td>0</td>\n",
       "    </tr>\n",
       "    <tr>\n",
       "      <th>1</th>\n",
       "      <td>2</td>\n",
       "      <td>L47181</td>\n",
       "      <td>L</td>\n",
       "      <td>298.2</td>\n",
       "      <td>308.7</td>\n",
       "      <td>1408</td>\n",
       "      <td>46.3</td>\n",
       "      <td>3</td>\n",
       "      <td>0</td>\n",
       "      <td>0</td>\n",
       "      <td>0</td>\n",
       "      <td>0</td>\n",
       "      <td>0</td>\n",
       "      <td>0</td>\n",
       "    </tr>\n",
       "    <tr>\n",
       "      <th>2</th>\n",
       "      <td>3</td>\n",
       "      <td>L47182</td>\n",
       "      <td>L</td>\n",
       "      <td>298.1</td>\n",
       "      <td>308.5</td>\n",
       "      <td>1498</td>\n",
       "      <td>49.4</td>\n",
       "      <td>5</td>\n",
       "      <td>0</td>\n",
       "      <td>0</td>\n",
       "      <td>0</td>\n",
       "      <td>0</td>\n",
       "      <td>0</td>\n",
       "      <td>0</td>\n",
       "    </tr>\n",
       "    <tr>\n",
       "      <th>3</th>\n",
       "      <td>4</td>\n",
       "      <td>L47183</td>\n",
       "      <td>L</td>\n",
       "      <td>298.2</td>\n",
       "      <td>308.6</td>\n",
       "      <td>1433</td>\n",
       "      <td>39.5</td>\n",
       "      <td>7</td>\n",
       "      <td>0</td>\n",
       "      <td>0</td>\n",
       "      <td>0</td>\n",
       "      <td>0</td>\n",
       "      <td>0</td>\n",
       "      <td>0</td>\n",
       "    </tr>\n",
       "    <tr>\n",
       "      <th>4</th>\n",
       "      <td>5</td>\n",
       "      <td>L47184</td>\n",
       "      <td>L</td>\n",
       "      <td>298.2</td>\n",
       "      <td>308.7</td>\n",
       "      <td>1408</td>\n",
       "      <td>40.0</td>\n",
       "      <td>9</td>\n",
       "      <td>0</td>\n",
       "      <td>0</td>\n",
       "      <td>0</td>\n",
       "      <td>0</td>\n",
       "      <td>0</td>\n",
       "      <td>0</td>\n",
       "    </tr>\n",
       "  </tbody>\n",
       "</table>\n",
       "</div>"
      ],
      "text/plain": [
       "   UDI Product ID Type  Air temperature [K]  Process temperature [K]  \\\n",
       "0    1     M14860    M                298.1                    308.6   \n",
       "1    2     L47181    L                298.2                    308.7   \n",
       "2    3     L47182    L                298.1                    308.5   \n",
       "3    4     L47183    L                298.2                    308.6   \n",
       "4    5     L47184    L                298.2                    308.7   \n",
       "\n",
       "   Rotational speed [rpm]  Torque [Nm]  Tool wear [min]  Machine failure  TWF  \\\n",
       "0                    1551         42.8                0                0    0   \n",
       "1                    1408         46.3                3                0    0   \n",
       "2                    1498         49.4                5                0    0   \n",
       "3                    1433         39.5                7                0    0   \n",
       "4                    1408         40.0                9                0    0   \n",
       "\n",
       "   HDF  PWF  OSF  RNF  \n",
       "0    0    0    0    0  \n",
       "1    0    0    0    0  \n",
       "2    0    0    0    0  \n",
       "3    0    0    0    0  \n",
       "4    0    0    0    0  "
      ]
     },
     "execution_count": 5,
     "metadata": {},
     "output_type": "execute_result"
    }
   ],
   "source": [
    "df = pd.read_csv(\"ai4i2020.csv\") #read data\n",
    "df.head(5)"
   ]
  },
  {
   "cell_type": "code",
   "execution_count": 6,
   "id": "ccfab22f",
   "metadata": {},
   "outputs": [],
   "source": [
    "#Drop UDI & Product ID columns since they do not contain relevant information for the model to learn\n",
    "df = df.drop(['UDI','Product ID'], axis=1)\n",
    "\n",
    "#Divide Dataframe into categorical and numerical columns\n",
    "df_cat = df[['Type']]\n",
    "df_num = df.drop(['Type','Machine failure','TWF','HDF','PWF','OSF','RNF'], axis=1)\n",
    "\n",
    "#Scaling numerical data\n",
    "from sklearn.preprocessing import MinMaxScaler\n",
    "scaler = MinMaxScaler()\n",
    "df_num = scaler.fit_transform(df_num)\n",
    "df_num = pd.DataFrame(df_num, columns = ['Air temperature [K]', 'Process temperature [K]', 'Rotational speed [rpm]', \n",
    "                                         'Torque [Nm]','Tool wear [min]'])\n",
    "\n",
    "#One hot encode categorical labels\n",
    "cat = pd.get_dummies(df_cat[['Type']], dtype=float)\n",
    "df_cat = pd.DataFrame(cat)\n",
    "\n",
    "#Concate encoded categorical data and scaled numerical data\n",
    "X = pd.concat([df_cat,df_num],axis=1)\n",
    "y = df[['Machine failure']]\n",
    "del df #delete df for memmory"
   ]
  },
  {
   "cell_type": "code",
   "execution_count": 7,
   "id": "08459ee6",
   "metadata": {},
   "outputs": [
    {
     "data": {
      "text/html": [
       "<div>\n",
       "<style scoped>\n",
       "    .dataframe tbody tr th:only-of-type {\n",
       "        vertical-align: middle;\n",
       "    }\n",
       "\n",
       "    .dataframe tbody tr th {\n",
       "        vertical-align: top;\n",
       "    }\n",
       "\n",
       "    .dataframe thead th {\n",
       "        text-align: right;\n",
       "    }\n",
       "</style>\n",
       "<table border=\"1\" class=\"dataframe\">\n",
       "  <thead>\n",
       "    <tr style=\"text-align: right;\">\n",
       "      <th></th>\n",
       "      <th>Type_H</th>\n",
       "      <th>Type_L</th>\n",
       "      <th>Type_M</th>\n",
       "      <th>Air temperature [K]</th>\n",
       "      <th>Process temperature [K]</th>\n",
       "      <th>Rotational speed [rpm]</th>\n",
       "      <th>Torque [Nm]</th>\n",
       "      <th>Tool wear [min]</th>\n",
       "    </tr>\n",
       "  </thead>\n",
       "  <tbody>\n",
       "    <tr>\n",
       "      <th>0</th>\n",
       "      <td>0.0</td>\n",
       "      <td>0.0</td>\n",
       "      <td>1.0</td>\n",
       "      <td>0.304348</td>\n",
       "      <td>0.358025</td>\n",
       "      <td>0.222934</td>\n",
       "      <td>0.535714</td>\n",
       "      <td>0.000000</td>\n",
       "    </tr>\n",
       "    <tr>\n",
       "      <th>1</th>\n",
       "      <td>0.0</td>\n",
       "      <td>1.0</td>\n",
       "      <td>0.0</td>\n",
       "      <td>0.315217</td>\n",
       "      <td>0.370370</td>\n",
       "      <td>0.139697</td>\n",
       "      <td>0.583791</td>\n",
       "      <td>0.011858</td>\n",
       "    </tr>\n",
       "    <tr>\n",
       "      <th>2</th>\n",
       "      <td>0.0</td>\n",
       "      <td>1.0</td>\n",
       "      <td>0.0</td>\n",
       "      <td>0.304348</td>\n",
       "      <td>0.345679</td>\n",
       "      <td>0.192084</td>\n",
       "      <td>0.626374</td>\n",
       "      <td>0.019763</td>\n",
       "    </tr>\n",
       "    <tr>\n",
       "      <th>3</th>\n",
       "      <td>0.0</td>\n",
       "      <td>1.0</td>\n",
       "      <td>0.0</td>\n",
       "      <td>0.315217</td>\n",
       "      <td>0.358025</td>\n",
       "      <td>0.154249</td>\n",
       "      <td>0.490385</td>\n",
       "      <td>0.027668</td>\n",
       "    </tr>\n",
       "    <tr>\n",
       "      <th>4</th>\n",
       "      <td>0.0</td>\n",
       "      <td>1.0</td>\n",
       "      <td>0.0</td>\n",
       "      <td>0.315217</td>\n",
       "      <td>0.370370</td>\n",
       "      <td>0.139697</td>\n",
       "      <td>0.497253</td>\n",
       "      <td>0.035573</td>\n",
       "    </tr>\n",
       "  </tbody>\n",
       "</table>\n",
       "</div>"
      ],
      "text/plain": [
       "   Type_H  Type_L  Type_M  Air temperature [K]  Process temperature [K]  \\\n",
       "0     0.0     0.0     1.0             0.304348                 0.358025   \n",
       "1     0.0     1.0     0.0             0.315217                 0.370370   \n",
       "2     0.0     1.0     0.0             0.304348                 0.345679   \n",
       "3     0.0     1.0     0.0             0.315217                 0.358025   \n",
       "4     0.0     1.0     0.0             0.315217                 0.370370   \n",
       "\n",
       "   Rotational speed [rpm]  Torque [Nm]  Tool wear [min]  \n",
       "0                0.222934     0.535714         0.000000  \n",
       "1                0.139697     0.583791         0.011858  \n",
       "2                0.192084     0.626374         0.019763  \n",
       "3                0.154249     0.490385         0.027668  \n",
       "4                0.139697     0.497253         0.035573  "
      ]
     },
     "execution_count": 7,
     "metadata": {},
     "output_type": "execute_result"
    }
   ],
   "source": [
    "#Check X and y data\n",
    "X.head(5)"
   ]
  },
  {
   "cell_type": "code",
   "execution_count": 5,
   "id": "9ea8da8b",
   "metadata": {},
   "outputs": [
    {
     "data": {
      "text/plain": [
       "Machine failure\n",
       "0                  9661\n",
       "1                   339\n",
       "dtype: int64"
      ]
     },
     "execution_count": 5,
     "metadata": {},
     "output_type": "execute_result"
    }
   ],
   "source": [
    "#Check X and y data\n",
    "y.value_counts()\n",
    "#here we can see that we have a heavily unbalanced data set"
   ]
  },
  {
   "cell_type": "code",
   "execution_count": 6,
   "id": "8da73a28",
   "metadata": {},
   "outputs": [],
   "source": [
    "#split training and test data\n",
    "from sklearn.model_selection import train_test_split\n",
    "X_train, X_test, y_train, y_test = train_test_split(X,y,test_size=0.2,random_state=101, stratify=y)\n",
    "\n"
   ]
  },
  {
   "cell_type": "code",
   "execution_count": 15,
   "id": "bb28a3e8",
   "metadata": {},
   "outputs": [
    {
     "data": {
      "text/plain": [
       "Machine failure\n",
       "0                  7729\n",
       "1                   271\n",
       "dtype: int64"
      ]
     },
     "execution_count": 15,
     "metadata": {},
     "output_type": "execute_result"
    }
   ],
   "source": [
    "y_train.value_counts()"
   ]
  },
  {
   "cell_type": "code",
   "execution_count": 16,
   "id": "64c990a7",
   "metadata": {},
   "outputs": [
    {
     "data": {
      "text/plain": [
       "Machine failure\n",
       "0                  1932\n",
       "1                    68\n",
       "dtype: int64"
      ]
     },
     "execution_count": 16,
     "metadata": {},
     "output_type": "execute_result"
    }
   ],
   "source": [
    "y_test.value_counts()"
   ]
  },
  {
   "cell_type": "code",
   "execution_count": 19,
   "id": "26067258",
   "metadata": {},
   "outputs": [
    {
     "data": {
      "text/plain": [
       "8000"
      ]
     },
     "execution_count": 19,
     "metadata": {},
     "output_type": "execute_result"
    }
   ],
   "source": [
    "len(y_train)"
   ]
  },
  {
   "cell_type": "markdown",
   "id": "87e77388",
   "metadata": {},
   "source": [
    "### Training and testing an initial version of the model"
   ]
  },
  {
   "cell_type": "code",
   "execution_count": 7,
   "id": "01f00fe0",
   "metadata": {},
   "outputs": [],
   "source": [
    "from sklearn.svm import SVC #import SVC model\n",
    "from sklearn.metrics import confusion_matrix, ConfusionMatrixDisplay\n",
    "\n",
    "\n",
    "model_0 = SVC() #create default model\n",
    "model_0.fit(X_train, y_train.values.ravel()) #train model\n",
    "y_pred = model_0.predict(X_test)#make predictions"
   ]
  },
  {
   "cell_type": "code",
   "execution_count": 8,
   "id": "d18284d2",
   "metadata": {},
   "outputs": [
    {
     "data": {
      "text/plain": [
       "<sklearn.metrics._plot.confusion_matrix.ConfusionMatrixDisplay at 0x1f9e5b589c8>"
      ]
     },
     "execution_count": 8,
     "metadata": {},
     "output_type": "execute_result"
    },
    {
     "data": {
      "image/png": "[encoded data removed]",
      "text/plain": [
       "<Figure size 300x300 with 2 Axes>"
      ]
     },
     "metadata": {},
     "output_type": "display_data"
    }
   ],
   "source": [
    "#make confusion matrix\n",
    "cm_0 = confusion_matrix(y_test, y_pred, labels=model_0.classes_)\n",
    "disp = ConfusionMatrixDisplay(confusion_matrix=cm_0, display_labels=model_0.classes_)\n",
    "fig, ax = plt.subplots(figsize=(3, 3))\n",
    "plt.title('Model_0')#can specify fontsize with fontsize=float\n",
    "disp.plot(ax=ax)"
   ]
  },
  {
   "cell_type": "code",
   "execution_count": 9,
   "id": "d603670a",
   "metadata": {},
   "outputs": [
    {
     "name": "stdout",
     "output_type": "stream",
     "text": [
      "Model_0 accuracy :  0.9665\n",
      "Model_0 precision : 1.0\n",
      "Model_0 recall :    0.014705882352941176\n",
      "Model_0 f1_score :  0.028985507246376812\n"
     ]
    }
   ],
   "source": [
    "# Get accuracy, precision, recall and f1 score\n",
    "from sklearn.metrics import accuracy_score\n",
    "from sklearn.metrics import precision_score\n",
    "from sklearn.metrics import recall_score\n",
    "from sklearn.metrics import f1_score\n",
    "\n",
    "#Print metrics for model_0\n",
    "#(y_true, y_pred)\n",
    "print(\"Model_0 accuracy : \",accuracy_score(y_test,y_pred))\n",
    "print(\"Model_0 precision :\",precision_score(y_test,y_pred))\n",
    "print(\"Model_0 recall :   \",recall_score(y_test,y_pred))\n",
    "print(\"Model_0 f1_score : \",f1_score(y_test,y_pred))\n",
    "\n",
    "\n",
    "#We have a high accuracy but this does not mean this model performs well since the data set is highly unbalanced and\n",
    "#Probably this model is really good at predicting which machines won't fail but is very bad predicting which machines \n",
    "#will fail (see recall score), we actually want to trade some precision for a better performance in recall \n",
    "#since predicting which machines will fail is more important for this problem and also we would rather predict that a machine \n",
    "#will fail and have that machine not failing than the other way around"
   ]
  },
  {
   "cell_type": "markdown",
   "id": "f2179738",
   "metadata": {},
   "source": [
    "### GridSearch"
   ]
  },
  {
   "cell_type": "code",
   "execution_count": 11,
   "id": "bd9eb32f",
   "metadata": {},
   "outputs": [
    {
     "name": "stdout",
     "output_type": "stream",
     "text": [
      "best params : {'C': 10, 'degree': 4, 'gamma': 10, 'kernel': 'poly'}\n",
      "best estimator : SVC(C=10, degree=4, gamma=10, kernel='poly')\n"
     ]
    }
   ],
   "source": [
    "#Using GridSearch to find the parameters that will have better performance for this model\n",
    "# Define the parameter grid for GridSearchCV\n",
    "param_grid = {'C': [0.01, 0.1, 10], \n",
    "              'kernel': ['linear','sigmoid', 'poly', 'rbf'], \n",
    "              'degree': [3,4], 'gamma':  [0.01, 0.1, 10]}\n",
    "\n",
    "#Create an SVM classifier\n",
    "svm_classifier = SVC()\n",
    "\n",
    "# Create a GridSearchCV object\n",
    "from sklearn.model_selection import GridSearchCV\n",
    "grid_search = GridSearchCV(svm_classifier, param_grid, cv=3, scoring='recall')\n",
    "grid_search.fit(X_train, y_train.values.ravel())# fit the grid search object to the data\n",
    "\n",
    "print(\"best params :\",grid_search.best_params_)\n",
    "print(\"best estimator :\",grid_search.best_estimator_)\n",
    "\n",
    "#estimate time 25 min"
   ]
  },
  {
   "cell_type": "markdown",
   "id": "c389c281",
   "metadata": {},
   "source": [
    "### Hyperparameter Tunning"
   ]
  },
  {
   "cell_type": "code",
   "execution_count": 10,
   "id": "b5a9e96c",
   "metadata": {},
   "outputs": [],
   "source": [
    "# let's see how the optimized parameters do\n",
    "model_1 = SVC(C=10, degree=4, gamma=10, kernel='poly') #create default model"
   ]
  },
  {
   "cell_type": "code",
   "execution_count": 11,
   "id": "1cb45017",
   "metadata": {},
   "outputs": [
    {
     "data": {
      "text/plain": [
       "SVC(C=10, degree=4, gamma=10, kernel='poly')"
      ]
     },
     "execution_count": 11,
     "metadata": {},
     "output_type": "execute_result"
    }
   ],
   "source": [
    "model_1.fit(X_train, y_train.values.ravel()) #train model"
   ]
  },
  {
   "cell_type": "code",
   "execution_count": 12,
   "id": "e044a5b2",
   "metadata": {},
   "outputs": [],
   "source": [
    "y_pred_1 = model_1.predict(X_test)#make predictions"
   ]
  },
  {
   "cell_type": "code",
   "execution_count": 13,
   "id": "e3351084",
   "metadata": {},
   "outputs": [
    {
     "data": {
      "text/plain": [
       "<sklearn.metrics._plot.confusion_matrix.ConfusionMatrixDisplay at 0x1c735025688>"
      ]
     },
     "execution_count": 13,
     "metadata": {},
     "output_type": "execute_result"
    },
    {
     "data": {
      "image/png": "[encoded data removed]",
      "text/plain": [
       "<Figure size 300x300 with 2 Axes>"
      ]
     },
     "metadata": {},
     "output_type": "display_data"
    }
   ],
   "source": [
    "#make confusion matrix\n",
    "cm_1 = confusion_matrix(y_test, y_pred_1, labels=model_1.classes_)\n",
    "disp = ConfusionMatrixDisplay(confusion_matrix=cm_1, display_labels=model_1.classes_)\n",
    "fig, ax = plt.subplots(figsize=(3, 3))\n",
    "plt.title('Model_1')#can specify fontsize with fontsize=float\n",
    "disp.plot(ax=ax)"
   ]
  },
  {
   "cell_type": "code",
   "execution_count": 14,
   "id": "e9883cd7",
   "metadata": {},
   "outputs": [
    {
     "name": "stdout",
     "output_type": "stream",
     "text": [
      "Model_1 accuracy :  0.975\n",
      "Model_1 precision : 0.6949152542372882\n",
      "Model_1 recall :    0.5616438356164384\n",
      "Model_1 f1_score :  0.6212121212121213\n"
     ]
    }
   ],
   "source": [
    "#Print metrics for model_1\n",
    "#(y_true, y_pred)\n",
    "print(\"Model_1 accuracy : \",accuracy_score(y_test,y_pred_1))\n",
    "print(\"Model_1 precision :\",precision_score(y_test,y_pred_1))\n",
    "print(\"Model_1 recall :   \",recall_score(y_test,y_pred_1))\n",
    "print(\"Model_1 f1_score : \",f1_score(y_test,y_pred_1))"
   ]
  },
  {
   "cell_type": "code",
   "execution_count": 10,
   "id": "3c123590",
   "metadata": {},
   "outputs": [],
   "source": [
    "# let's try to play a little bit with the hyperparameters to see with we can increase the recall without sacrificing too much\n",
    "# Precision\n",
    "model_2 = SVC(C=20, degree=4, gamma=20, kernel='poly') #create default model\n",
    "model_2.fit(X_train, y_train.values.ravel()) #train model\n",
    "y_pred_2 = model_2.predict(X_test)#make predictions"
   ]
  },
  {
   "cell_type": "code",
   "execution_count": 11,
   "id": "c286ae4f",
   "metadata": {},
   "outputs": [
    {
     "data": {
      "text/plain": [
       "<sklearn.metrics._plot.confusion_matrix.ConfusionMatrixDisplay at 0x245cc667e48>"
      ]
     },
     "execution_count": 11,
     "metadata": {},
     "output_type": "execute_result"
    },
    {
     "data": {
      "image/png": "[encoded data removed]",
      "text/plain": [
       "<Figure size 300x300 with 2 Axes>"
      ]
     },
     "metadata": {},
     "output_type": "display_data"
    }
   ],
   "source": [
    "#make confusion matrix\n",
    "cm_2 = confusion_matrix(y_test, y_pred_2, labels=model_2.classes_)\n",
    "disp = ConfusionMatrixDisplay(confusion_matrix=cm_2, display_labels=model_2.classes_)\n",
    "fig, ax = plt.subplots(figsize=(3, 3))\n",
    "plt.title('Model_2')#can specify fontsize with fontsize=float\n",
    "disp.plot(ax=ax)"
   ]
  },
  {
   "cell_type": "code",
   "execution_count": 12,
   "id": "653fa415",
   "metadata": {},
   "outputs": [
    {
     "name": "stdout",
     "output_type": "stream",
     "text": [
      "Model_2 accuracy :  0.9755\n",
      "Model_2 precision : 0.6818181818181818\n",
      "Model_2 recall :    0.6164383561643836\n",
      "Model_2 f1_score :  0.6474820143884891\n"
     ]
    }
   ],
   "source": [
    "#Print metrics for model_2\n",
    "#(y_true, y_pred)\n",
    "print(\"Model_2 accuracy : \",accuracy_score(y_test,y_pred_2))\n",
    "print(\"Model_2 precision :\",precision_score(y_test,y_pred_2))\n",
    "print(\"Model_2 recall :   \",recall_score(y_test,y_pred_2))\n",
    "print(\"Model_2 f1_score : \",f1_score(y_test,y_pred_2))\n",
    "\n",
    "\n",
    "#From tunning hyperparameters C & Gamma we see that we obtain a better recall so let's try to train one more model\n",
    "#And see how much more we can improve the recall for this data set using SVM's"
   ]
  },
  {
   "cell_type": "code",
   "execution_count": 13,
   "id": "93a6fa0f",
   "metadata": {},
   "outputs": [],
   "source": [
    "#Let's also measure how much time does the PC take to train this model\n",
    "model_3 = SVC(C=80, degree=4, gamma=80, kernel='poly') #create default model\n",
    "start = time.time()\n",
    "model_3.fit(X_train, y_train.values.ravel()) #train model\n",
    "end = time.time()\n",
    "y_pred_3 = model_3.predict(X_test)#make predictions"
   ]
  },
  {
   "cell_type": "code",
   "execution_count": 15,
   "id": "485b9fd6",
   "metadata": {},
   "outputs": [
    {
     "name": "stdout",
     "output_type": "stream",
     "text": [
      "Minutes for training model_3:  43.957631778717044\n"
     ]
    }
   ],
   "source": [
    "print(\"Minutes for training model_3: \",(end - start)/60)"
   ]
  },
  {
   "cell_type": "code",
   "execution_count": 16,
   "id": "b1a858cb",
   "metadata": {},
   "outputs": [
    {
     "data": {
      "text/plain": [
       "<sklearn.metrics._plot.confusion_matrix.ConfusionMatrixDisplay at 0x245d2843448>"
      ]
     },
     "execution_count": 16,
     "metadata": {},
     "output_type": "execute_result"
    },
    {
     "data": {
      "image/png": "[encoded data removed]",
      "text/plain": [
       "<Figure size 300x300 with 2 Axes>"
      ]
     },
     "metadata": {},
     "output_type": "display_data"
    }
   ],
   "source": [
    "#make confusion matrix\n",
    "cm_3 = confusion_matrix(y_test, y_pred_3, labels=model_3.classes_)\n",
    "disp = ConfusionMatrixDisplay(confusion_matrix=cm_3, display_labels=model_3.classes_)\n",
    "fig, ax = plt.subplots(figsize=(3, 3))\n",
    "plt.title('Model_3')#can specify fontsize with fontsize=float\n",
    "disp.plot(ax=ax)"
   ]
  },
  {
   "cell_type": "code",
   "execution_count": 17,
   "id": "6a906542",
   "metadata": {},
   "outputs": [
    {
     "name": "stdout",
     "output_type": "stream",
     "text": [
      "Model_3 accuracy :  0.9705\n",
      "Model_3 precision : 0.5972222222222222\n",
      "Model_3 recall :    0.589041095890411\n",
      "Model_3 f1_score :  0.593103448275862\n"
     ]
    }
   ],
   "source": [
    "#Print metrics for model_3\n",
    "#(y_true, y_pred)\n",
    "print(\"Model_3 accuracy : \",accuracy_score(y_test,y_pred_3))\n",
    "print(\"Model_3 precision :\",precision_score(y_test,y_pred_3))\n",
    "print(\"Model_3 recall :   \",recall_score(y_test,y_pred_3))\n",
    "print(\"Model_3 f1_score : \",f1_score(y_test,y_pred_3))\n",
    "\n",
    "\n",
    "#Now we can see that rather than improving recall it decreased so let's make a final model with all the info we have now"
   ]
  },
  {
   "cell_type": "code",
   "execution_count": 13,
   "id": "357079a9",
   "metadata": {},
   "outputs": [
    {
     "name": "stdout",
     "output_type": "stream",
     "text": [
      "Minutes for training model_4:  27.653026044368744\n"
     ]
    }
   ],
   "source": [
    "model_4 = SVC(C=40, degree=4, gamma=40, kernel='poly') #create default model\n",
    "start = time.time()\n",
    "model_4.fit(X_train, y_train.values.ravel()) #train model\n",
    "end = time.time()\n",
    "y_pred_4 = model_4.predict(X_test)#make predictions\n",
    "\n",
    "print(\"Minutes for training model_4: \",(end - start)/60)"
   ]
  },
  {
   "cell_type": "code",
   "execution_count": 14,
   "id": "cd62afd2",
   "metadata": {},
   "outputs": [
    {
     "data": {
      "text/plain": [
       "<sklearn.metrics._plot.confusion_matrix.ConfusionMatrixDisplay at 0x154d790f448>"
      ]
     },
     "execution_count": 14,
     "metadata": {},
     "output_type": "execute_result"
    },
    {
     "data": {
      "image/png": "[encoded data removed]",
      "text/plain": [
       "<Figure size 300x300 with 2 Axes>"
      ]
     },
     "metadata": {},
     "output_type": "display_data"
    }
   ],
   "source": [
    "#make confusion matrix\n",
    "cm_4 = confusion_matrix(y_test, y_pred_4, labels=model_4.classes_)\n",
    "disp = ConfusionMatrixDisplay(confusion_matrix=cm_4, display_labels=model_4.classes_)\n",
    "fig, ax = plt.subplots(figsize=(3, 3))\n",
    "plt.title('Model_4')#can specify fontsize with fontsize=float\n",
    "disp.plot(ax=ax)"
   ]
  },
  {
   "cell_type": "code",
   "execution_count": 15,
   "id": "d1dd9037",
   "metadata": {},
   "outputs": [
    {
     "name": "stdout",
     "output_type": "stream",
     "text": [
      "Model_4 accuracy :  0.9715\n",
      "Model_4 precision : 0.6025641025641025\n",
      "Model_4 recall :    0.6438356164383562\n",
      "Model_4 f1_score :  0.6225165562913907\n"
     ]
    }
   ],
   "source": [
    "#Print metrics for model_4\n",
    "#(y_true, y_pred)\n",
    "print(\"Model_4 accuracy : \",accuracy_score(y_test,y_pred_4))\n",
    "print(\"Model_4 precision :\",precision_score(y_test,y_pred_4))\n",
    "print(\"Model_4 recall :   \",recall_score(y_test,y_pred_4))\n",
    "print(\"Model_4 f1_score : \",f1_score(y_test,y_pred_4))"
   ]
  },
  {
   "cell_type": "code",
   "execution_count": 8,
   "id": "3076c8fd",
   "metadata": {},
   "outputs": [
    {
     "name": "stdout",
     "output_type": "stream",
     "text": [
      "Minutes for training model_5:  50.89790127674738\n"
     ]
    }
   ],
   "source": [
    "model_5 = SVC(C=30, degree=4, gamma=30, kernel='poly') #create default model\n",
    "start = time.time()\n",
    "model_5.fit(X_train, y_train.values.ravel()) #train model\n",
    "end = time.time()\n",
    "y_pred_5 = model_5.predict(X_test)#make predictions\n",
    "\n",
    "print(\"Minutes for training model_5: \",(end - start)/60)"
   ]
  },
  {
   "cell_type": "code",
   "execution_count": 12,
   "id": "65b60895",
   "metadata": {},
   "outputs": [
    {
     "data": {
      "text/plain": [
       "<sklearn.metrics._plot.confusion_matrix.ConfusionMatrixDisplay at 0x1d08c0042c8>"
      ]
     },
     "execution_count": 12,
     "metadata": {},
     "output_type": "execute_result"
    },
    {
     "data": {
      "image/png": "[encoded data removed]",
      "text/plain": [
       "<Figure size 300x300 with 2 Axes>"
      ]
     },
     "metadata": {},
     "output_type": "display_data"
    }
   ],
   "source": [
    "#make confusion matrix\n",
    "cm_5 = confusion_matrix(y_test, y_pred_5, labels=model_5.classes_)\n",
    "disp = ConfusionMatrixDisplay(confusion_matrix=cm_5, display_labels=model_5.classes_)\n",
    "fig, ax = plt.subplots(figsize=(3, 3))\n",
    "plt.title('Model_5')#can specify fontsize with fontsize=float\n",
    "disp.plot(ax=ax)"
   ]
  },
  {
   "cell_type": "code",
   "execution_count": 11,
   "id": "b57d5a93",
   "metadata": {},
   "outputs": [
    {
     "name": "stdout",
     "output_type": "stream",
     "text": [
      "Model_5 accuracy :  0.972\n",
      "Model_5 precision : 0.575\n",
      "Model_5 recall :    0.6764705882352942\n",
      "Model_5 f1_score :  0.6216216216216216\n"
     ]
    }
   ],
   "source": [
    "#Print metrics for model_4\n",
    "#(y_true, y_pred)\n",
    "print(\"Model_5 accuracy : \",accuracy_score(y_test,y_pred_5))\n",
    "print(\"Model_5 precision :\",precision_score(y_test,y_pred_5))\n",
    "print(\"Model_5 recall :   \",recall_score(y_test,y_pred_5))\n",
    "print(\"Model_5 f1_score : \",f1_score(y_test,y_pred_5))"
   ]
  },
  {
   "cell_type": "code",
   "execution_count": 13,
   "id": "f21b0fc8",
   "metadata": {},
   "outputs": [
    {
     "data": {
      "text/plain": [
       "['svm_5.joblib']"
      ]
     },
     "execution_count": 13,
     "metadata": {},
     "output_type": "execute_result"
    }
   ],
   "source": [
    "from joblib import dump, load #Save model\n",
    "dump(model_5, 'svm_5.joblib')"
   ]
  },
  {
   "cell_type": "code",
   "execution_count": 12,
   "id": "cc1ad16c",
   "metadata": {},
   "outputs": [
    {
     "data": {
      "text/html": [
       "<div>\n",
       "<style scoped>\n",
       "    .dataframe tbody tr th:only-of-type {\n",
       "        vertical-align: middle;\n",
       "    }\n",
       "\n",
       "    .dataframe tbody tr th {\n",
       "        vertical-align: top;\n",
       "    }\n",
       "\n",
       "    .dataframe thead th {\n",
       "        text-align: right;\n",
       "    }\n",
       "</style>\n",
       "<table border=\"1\" class=\"dataframe\">\n",
       "  <thead>\n",
       "    <tr style=\"text-align: right;\">\n",
       "      <th></th>\n",
       "      <th>Torque [Nm]</th>\n",
       "      <th>Air temperature [K]</th>\n",
       "      <th>Tool wear [min]</th>\n",
       "      <th>Rotational speed [rpm]</th>\n",
       "      <th>Process temperature [K]</th>\n",
       "    </tr>\n",
       "  </thead>\n",
       "  <tbody>\n",
       "    <tr>\n",
       "      <th>0</th>\n",
       "      <td>0.535714</td>\n",
       "      <td>0.304348</td>\n",
       "      <td>0.000000</td>\n",
       "      <td>0.222934</td>\n",
       "      <td>0.358025</td>\n",
       "    </tr>\n",
       "    <tr>\n",
       "      <th>1</th>\n",
       "      <td>0.583791</td>\n",
       "      <td>0.315217</td>\n",
       "      <td>0.011858</td>\n",
       "      <td>0.139697</td>\n",
       "      <td>0.370370</td>\n",
       "    </tr>\n",
       "    <tr>\n",
       "      <th>2</th>\n",
       "      <td>0.626374</td>\n",
       "      <td>0.304348</td>\n",
       "      <td>0.019763</td>\n",
       "      <td>0.192084</td>\n",
       "      <td>0.345679</td>\n",
       "    </tr>\n",
       "    <tr>\n",
       "      <th>3</th>\n",
       "      <td>0.490385</td>\n",
       "      <td>0.315217</td>\n",
       "      <td>0.027668</td>\n",
       "      <td>0.154249</td>\n",
       "      <td>0.358025</td>\n",
       "    </tr>\n",
       "    <tr>\n",
       "      <th>4</th>\n",
       "      <td>0.497253</td>\n",
       "      <td>0.315217</td>\n",
       "      <td>0.035573</td>\n",
       "      <td>0.139697</td>\n",
       "      <td>0.370370</td>\n",
       "    </tr>\n",
       "  </tbody>\n",
       "</table>\n",
       "</div>"
      ],
      "text/plain": [
       "   Torque [Nm]  Air temperature [K]  Tool wear [min]  Rotational speed [rpm]  \\\n",
       "0     0.535714             0.304348         0.000000                0.222934   \n",
       "1     0.583791             0.315217         0.011858                0.139697   \n",
       "2     0.626374             0.304348         0.019763                0.192084   \n",
       "3     0.490385             0.315217         0.027668                0.154249   \n",
       "4     0.497253             0.315217         0.035573                0.139697   \n",
       "\n",
       "   Process temperature [K]  \n",
       "0                 0.358025  \n",
       "1                 0.370370  \n",
       "2                 0.345679  \n",
       "3                 0.358025  \n",
       "4                 0.370370  "
      ]
     },
     "execution_count": 12,
     "metadata": {},
     "output_type": "execute_result"
    }
   ],
   "source": [
    "#According to several correlation tests the top 5 features in the data set are:\n",
    "#best features are:\n",
    "#                    Feature  Total\n",
    "#1              Torque [Nm]      6\n",
    "#2      Air temperature [K]      5\n",
    "#3          Tool wear [min]      4\n",
    "#4   Rotational speed [rpm]      4\n",
    "#5  Process temperature [K]      4\n",
    "\n",
    "#Let's try training our best model using only this features\n",
    "X_BestFeat = X.loc[:,['Torque [Nm]', 'Air temperature [K]', \n",
    "                    'Tool wear [min]', 'Rotational speed [rpm]', 'Process temperature [K]']]\n",
    "\n",
    "X_BestFeat.head(5)"
   ]
  },
  {
   "cell_type": "code",
   "execution_count": 13,
   "id": "55e59d4a",
   "metadata": {},
   "outputs": [
    {
     "name": "stdout",
     "output_type": "stream",
     "text": [
      "Minutes for training model_5:  58.97205685774485\n"
     ]
    }
   ],
   "source": [
    "#Now let's train the model again\n",
    "from sklearn.model_selection import train_test_split #Train/Test set\n",
    "X_train, X_test, y_train, y_test = train_test_split(X,y,test_size=0.2,random_state=101, stratify=y)\n",
    "\n",
    "model_5_1 = SVC(C=30, degree=4, gamma=30, kernel='poly') #create default model\n",
    "start = time.time()\n",
    "model_5_1.fit(X_train, y_train.values.ravel()) #train model\n",
    "end = time.time()\n",
    "y_pred_5_1 = model_5_1.predict(X_test)#make predictions\n",
    "\n",
    "print(\"Minutes for training model_5: \",(end - start)/60)"
   ]
  },
  {
   "cell_type": "code",
   "execution_count": 14,
   "id": "357b74f8",
   "metadata": {},
   "outputs": [
    {
     "name": "stdout",
     "output_type": "stream",
     "text": [
      "Model_5_1 accuracy :  0.972\n",
      "Model_5_1 precision : 0.575\n",
      "Model_5_1 recall :    0.6764705882352942\n",
      "Model_5_1 f1_score :  0.6216216216216216\n"
     ]
    }
   ],
   "source": [
    "#Print metrics for model_4\n",
    "#(y_true, y_pred)\n",
    "print(\"Model_5_1 accuracy : \",accuracy_score(y_test,y_pred_5_1))\n",
    "print(\"Model_5_1 precision :\",precision_score(y_test,y_pred_5_1))\n",
    "print(\"Model_5_1 recall :   \",recall_score(y_test,y_pred_5_1))\n",
    "print(\"Model_5_1 f1_score : \",f1_score(y_test,y_pred_5_1))"
   ]
  },
  {
   "cell_type": "code",
   "execution_count": null,
   "id": "c054c9d2",
   "metadata": {},
   "outputs": [],
   "source": []
  }
 ],
 "metadata": {
  "kernelspec": {
   "display_name": "ml-venv",
   "language": "python",
   "name": "ml-venv"
  },
  "language_info": {
   "codemirror_mode": {
    "name": "ipython",
    "version": 3
   },
   "file_extension": ".py",
   "mimetype": "text/x-python",
   "name": "python",
   "nbconvert_exporter": "python",
   "pygments_lexer": "ipython3",
   "version": "3.7.16"
  }
 },
 "nbformat": 4,
 "nbformat_minor": 5
}
