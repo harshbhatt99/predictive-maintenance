{
 "cells": [
  {
   "cell_type": "code",
   "execution_count": 255,
   "metadata": {
    "ExecuteTime": {
     "end_time": "2023-09-24T13:43:37.307566100Z",
     "start_time": "2023-09-24T13:43:37.193380700Z"
    }
   },
   "outputs": [],
   "source": [
    "import pandas as pd\n",
    "import numpy as np\n",
    "import matplotlib.pyplot as plt\n",
    "import seaborn as sns"
   ]
  },
  {
   "cell_type": "code",
   "execution_count": 256,
   "metadata": {
    "ExecuteTime": {
     "end_time": "2023-09-24T13:43:37.401566Z",
     "start_time": "2023-09-24T13:43:37.195385300Z"
    }
   },
   "outputs": [
    {
     "data": {
      "text/html": [
       "<div>\n",
       "<style scoped>\n",
       "    .dataframe tbody tr th:only-of-type {\n",
       "        vertical-align: middle;\n",
       "    }\n",
       "\n",
       "    .dataframe tbody tr th {\n",
       "        vertical-align: top;\n",
       "    }\n",
       "\n",
       "    .dataframe thead th {\n",
       "        text-align: right;\n",
       "    }\n",
       "</style>\n",
       "<table border=\"1\" class=\"dataframe\">\n",
       "  <thead>\n",
       "    <tr style=\"text-align: right;\">\n",
       "      <th></th>\n",
       "      <th>UDI</th>\n",
       "      <th>Product ID</th>\n",
       "      <th>Type</th>\n",
       "      <th>Air temperature [K]</th>\n",
       "      <th>Process temperature [K]</th>\n",
       "      <th>Rotational speed [rpm]</th>\n",
       "      <th>Torque [Nm]</th>\n",
       "      <th>Tool wear [min]</th>\n",
       "      <th>Machine failure</th>\n",
       "      <th>TWF</th>\n",
       "      <th>HDF</th>\n",
       "      <th>PWF</th>\n",
       "      <th>OSF</th>\n",
       "      <th>RNF</th>\n",
       "    </tr>\n",
       "  </thead>\n",
       "  <tbody>\n",
       "    <tr>\n",
       "      <th>0</th>\n",
       "      <td>1</td>\n",
       "      <td>M14860</td>\n",
       "      <td>M</td>\n",
       "      <td>298.1</td>\n",
       "      <td>308.6</td>\n",
       "      <td>1551</td>\n",
       "      <td>42.8</td>\n",
       "      <td>0</td>\n",
       "      <td>0</td>\n",
       "      <td>0</td>\n",
       "      <td>0</td>\n",
       "      <td>0</td>\n",
       "      <td>0</td>\n",
       "      <td>0</td>\n",
       "    </tr>\n",
       "    <tr>\n",
       "      <th>1</th>\n",
       "      <td>2</td>\n",
       "      <td>L47181</td>\n",
       "      <td>L</td>\n",
       "      <td>298.2</td>\n",
       "      <td>308.7</td>\n",
       "      <td>1408</td>\n",
       "      <td>46.3</td>\n",
       "      <td>3</td>\n",
       "      <td>0</td>\n",
       "      <td>0</td>\n",
       "      <td>0</td>\n",
       "      <td>0</td>\n",
       "      <td>0</td>\n",
       "      <td>0</td>\n",
       "    </tr>\n",
       "    <tr>\n",
       "      <th>2</th>\n",
       "      <td>3</td>\n",
       "      <td>L47182</td>\n",
       "      <td>L</td>\n",
       "      <td>298.1</td>\n",
       "      <td>308.5</td>\n",
       "      <td>1498</td>\n",
       "      <td>49.4</td>\n",
       "      <td>5</td>\n",
       "      <td>0</td>\n",
       "      <td>0</td>\n",
       "      <td>0</td>\n",
       "      <td>0</td>\n",
       "      <td>0</td>\n",
       "      <td>0</td>\n",
       "    </tr>\n",
       "    <tr>\n",
       "      <th>3</th>\n",
       "      <td>4</td>\n",
       "      <td>L47183</td>\n",
       "      <td>L</td>\n",
       "      <td>298.2</td>\n",
       "      <td>308.6</td>\n",
       "      <td>1433</td>\n",
       "      <td>39.5</td>\n",
       "      <td>7</td>\n",
       "      <td>0</td>\n",
       "      <td>0</td>\n",
       "      <td>0</td>\n",
       "      <td>0</td>\n",
       "      <td>0</td>\n",
       "      <td>0</td>\n",
       "    </tr>\n",
       "    <tr>\n",
       "      <th>4</th>\n",
       "      <td>5</td>\n",
       "      <td>L47184</td>\n",
       "      <td>L</td>\n",
       "      <td>298.2</td>\n",
       "      <td>308.7</td>\n",
       "      <td>1408</td>\n",
       "      <td>40.0</td>\n",
       "      <td>9</td>\n",
       "      <td>0</td>\n",
       "      <td>0</td>\n",
       "      <td>0</td>\n",
       "      <td>0</td>\n",
       "      <td>0</td>\n",
       "      <td>0</td>\n",
       "    </tr>\n",
       "  </tbody>\n",
       "</table>\n",
       "</div>"
      ],
      "text/plain": [
       "   UDI Product ID Type  Air temperature [K]  Process temperature [K]  \\\n",
       "0    1     M14860    M                298.1                    308.6   \n",
       "1    2     L47181    L                298.2                    308.7   \n",
       "2    3     L47182    L                298.1                    308.5   \n",
       "3    4     L47183    L                298.2                    308.6   \n",
       "4    5     L47184    L                298.2                    308.7   \n",
       "\n",
       "   Rotational speed [rpm]  Torque [Nm]  Tool wear [min]  Machine failure  TWF  \\\n",
       "0                    1551         42.8                0                0    0   \n",
       "1                    1408         46.3                3                0    0   \n",
       "2                    1498         49.4                5                0    0   \n",
       "3                    1433         39.5                7                0    0   \n",
       "4                    1408         40.0                9                0    0   \n",
       "\n",
       "   HDF  PWF  OSF  RNF  \n",
       "0    0    0    0    0  \n",
       "1    0    0    0    0  \n",
       "2    0    0    0    0  \n",
       "3    0    0    0    0  \n",
       "4    0    0    0    0  "
      ]
     },
     "execution_count": 256,
     "metadata": {},
     "output_type": "execute_result"
    }
   ],
   "source": [
    "df = pd.read_csv(\"ai4i2020.csv\")\n",
    "df.head(5)"
   ]
  },
  {
   "cell_type": "code",
   "execution_count": 257,
   "metadata": {
    "ExecuteTime": {
     "end_time": "2023-09-24T13:43:37.448566Z",
     "start_time": "2023-09-24T13:43:37.211457700Z"
    }
   },
   "outputs": [
    {
     "data": {
      "text/html": [
       "<div>\n",
       "<style scoped>\n",
       "    .dataframe tbody tr th:only-of-type {\n",
       "        vertical-align: middle;\n",
       "    }\n",
       "\n",
       "    .dataframe tbody tr th {\n",
       "        vertical-align: top;\n",
       "    }\n",
       "\n",
       "    .dataframe thead th {\n",
       "        text-align: right;\n",
       "    }\n",
       "</style>\n",
       "<table border=\"1\" class=\"dataframe\">\n",
       "  <thead>\n",
       "    <tr style=\"text-align: right;\">\n",
       "      <th></th>\n",
       "      <th>Type</th>\n",
       "      <th>Air temperature [K]</th>\n",
       "      <th>Process temperature [K]</th>\n",
       "      <th>Rotational speed [rpm]</th>\n",
       "      <th>Torque [Nm]</th>\n",
       "      <th>Tool wear [min]</th>\n",
       "      <th>Machine failure</th>\n",
       "      <th>TWF</th>\n",
       "      <th>HDF</th>\n",
       "      <th>PWF</th>\n",
       "      <th>OSF</th>\n",
       "      <th>RNF</th>\n",
       "    </tr>\n",
       "  </thead>\n",
       "  <tbody>\n",
       "    <tr>\n",
       "      <th>0</th>\n",
       "      <td>M</td>\n",
       "      <td>298.1</td>\n",
       "      <td>308.6</td>\n",
       "      <td>1551</td>\n",
       "      <td>42.8</td>\n",
       "      <td>0</td>\n",
       "      <td>0</td>\n",
       "      <td>0</td>\n",
       "      <td>0</td>\n",
       "      <td>0</td>\n",
       "      <td>0</td>\n",
       "      <td>0</td>\n",
       "    </tr>\n",
       "    <tr>\n",
       "      <th>1</th>\n",
       "      <td>L</td>\n",
       "      <td>298.2</td>\n",
       "      <td>308.7</td>\n",
       "      <td>1408</td>\n",
       "      <td>46.3</td>\n",
       "      <td>3</td>\n",
       "      <td>0</td>\n",
       "      <td>0</td>\n",
       "      <td>0</td>\n",
       "      <td>0</td>\n",
       "      <td>0</td>\n",
       "      <td>0</td>\n",
       "    </tr>\n",
       "    <tr>\n",
       "      <th>2</th>\n",
       "      <td>L</td>\n",
       "      <td>298.1</td>\n",
       "      <td>308.5</td>\n",
       "      <td>1498</td>\n",
       "      <td>49.4</td>\n",
       "      <td>5</td>\n",
       "      <td>0</td>\n",
       "      <td>0</td>\n",
       "      <td>0</td>\n",
       "      <td>0</td>\n",
       "      <td>0</td>\n",
       "      <td>0</td>\n",
       "    </tr>\n",
       "    <tr>\n",
       "      <th>3</th>\n",
       "      <td>L</td>\n",
       "      <td>298.2</td>\n",
       "      <td>308.6</td>\n",
       "      <td>1433</td>\n",
       "      <td>39.5</td>\n",
       "      <td>7</td>\n",
       "      <td>0</td>\n",
       "      <td>0</td>\n",
       "      <td>0</td>\n",
       "      <td>0</td>\n",
       "      <td>0</td>\n",
       "      <td>0</td>\n",
       "    </tr>\n",
       "    <tr>\n",
       "      <th>4</th>\n",
       "      <td>L</td>\n",
       "      <td>298.2</td>\n",
       "      <td>308.7</td>\n",
       "      <td>1408</td>\n",
       "      <td>40.0</td>\n",
       "      <td>9</td>\n",
       "      <td>0</td>\n",
       "      <td>0</td>\n",
       "      <td>0</td>\n",
       "      <td>0</td>\n",
       "      <td>0</td>\n",
       "      <td>0</td>\n",
       "    </tr>\n",
       "    <tr>\n",
       "      <th>...</th>\n",
       "      <td>...</td>\n",
       "      <td>...</td>\n",
       "      <td>...</td>\n",
       "      <td>...</td>\n",
       "      <td>...</td>\n",
       "      <td>...</td>\n",
       "      <td>...</td>\n",
       "      <td>...</td>\n",
       "      <td>...</td>\n",
       "      <td>...</td>\n",
       "      <td>...</td>\n",
       "      <td>...</td>\n",
       "    </tr>\n",
       "    <tr>\n",
       "      <th>9995</th>\n",
       "      <td>M</td>\n",
       "      <td>298.8</td>\n",
       "      <td>308.4</td>\n",
       "      <td>1604</td>\n",
       "      <td>29.5</td>\n",
       "      <td>14</td>\n",
       "      <td>0</td>\n",
       "      <td>0</td>\n",
       "      <td>0</td>\n",
       "      <td>0</td>\n",
       "      <td>0</td>\n",
       "      <td>0</td>\n",
       "    </tr>\n",
       "    <tr>\n",
       "      <th>9996</th>\n",
       "      <td>H</td>\n",
       "      <td>298.9</td>\n",
       "      <td>308.4</td>\n",
       "      <td>1632</td>\n",
       "      <td>31.8</td>\n",
       "      <td>17</td>\n",
       "      <td>0</td>\n",
       "      <td>0</td>\n",
       "      <td>0</td>\n",
       "      <td>0</td>\n",
       "      <td>0</td>\n",
       "      <td>0</td>\n",
       "    </tr>\n",
       "    <tr>\n",
       "      <th>9997</th>\n",
       "      <td>M</td>\n",
       "      <td>299.0</td>\n",
       "      <td>308.6</td>\n",
       "      <td>1645</td>\n",
       "      <td>33.4</td>\n",
       "      <td>22</td>\n",
       "      <td>0</td>\n",
       "      <td>0</td>\n",
       "      <td>0</td>\n",
       "      <td>0</td>\n",
       "      <td>0</td>\n",
       "      <td>0</td>\n",
       "    </tr>\n",
       "    <tr>\n",
       "      <th>9998</th>\n",
       "      <td>H</td>\n",
       "      <td>299.0</td>\n",
       "      <td>308.7</td>\n",
       "      <td>1408</td>\n",
       "      <td>48.5</td>\n",
       "      <td>25</td>\n",
       "      <td>0</td>\n",
       "      <td>0</td>\n",
       "      <td>0</td>\n",
       "      <td>0</td>\n",
       "      <td>0</td>\n",
       "      <td>0</td>\n",
       "    </tr>\n",
       "    <tr>\n",
       "      <th>9999</th>\n",
       "      <td>M</td>\n",
       "      <td>299.0</td>\n",
       "      <td>308.7</td>\n",
       "      <td>1500</td>\n",
       "      <td>40.2</td>\n",
       "      <td>30</td>\n",
       "      <td>0</td>\n",
       "      <td>0</td>\n",
       "      <td>0</td>\n",
       "      <td>0</td>\n",
       "      <td>0</td>\n",
       "      <td>0</td>\n",
       "    </tr>\n",
       "  </tbody>\n",
       "</table>\n",
       "<p>10000 rows × 12 columns</p>\n",
       "</div>"
      ],
      "text/plain": [
       "     Type  Air temperature [K]  Process temperature [K]  \\\n",
       "0       M                298.1                    308.6   \n",
       "1       L                298.2                    308.7   \n",
       "2       L                298.1                    308.5   \n",
       "3       L                298.2                    308.6   \n",
       "4       L                298.2                    308.7   \n",
       "...   ...                  ...                      ...   \n",
       "9995    M                298.8                    308.4   \n",
       "9996    H                298.9                    308.4   \n",
       "9997    M                299.0                    308.6   \n",
       "9998    H                299.0                    308.7   \n",
       "9999    M                299.0                    308.7   \n",
       "\n",
       "      Rotational speed [rpm]  Torque [Nm]  Tool wear [min]  Machine failure  \\\n",
       "0                       1551         42.8                0                0   \n",
       "1                       1408         46.3                3                0   \n",
       "2                       1498         49.4                5                0   \n",
       "3                       1433         39.5                7                0   \n",
       "4                       1408         40.0                9                0   \n",
       "...                      ...          ...              ...              ...   \n",
       "9995                    1604         29.5               14                0   \n",
       "9996                    1632         31.8               17                0   \n",
       "9997                    1645         33.4               22                0   \n",
       "9998                    1408         48.5               25                0   \n",
       "9999                    1500         40.2               30                0   \n",
       "\n",
       "      TWF  HDF  PWF  OSF  RNF  \n",
       "0       0    0    0    0    0  \n",
       "1       0    0    0    0    0  \n",
       "2       0    0    0    0    0  \n",
       "3       0    0    0    0    0  \n",
       "4       0    0    0    0    0  \n",
       "...   ...  ...  ...  ...  ...  \n",
       "9995    0    0    0    0    0  \n",
       "9996    0    0    0    0    0  \n",
       "9997    0    0    0    0    0  \n",
       "9998    0    0    0    0    0  \n",
       "9999    0    0    0    0    0  \n",
       "\n",
       "[10000 rows x 12 columns]"
      ]
     },
     "execution_count": 257,
     "metadata": {},
     "output_type": "execute_result"
    }
   ],
   "source": [
    "df = df.drop(['UDI','Product ID'], axis=1)\n",
    "df"
   ]
  },
  {
   "cell_type": "code",
   "execution_count": 258,
   "metadata": {
    "ExecuteTime": {
     "end_time": "2023-09-24T13:43:37.448566Z",
     "start_time": "2023-09-24T13:43:37.221336900Z"
    }
   },
   "outputs": [
    {
     "data": {
      "text/html": [
       "<div>\n",
       "<style scoped>\n",
       "    .dataframe tbody tr th:only-of-type {\n",
       "        vertical-align: middle;\n",
       "    }\n",
       "\n",
       "    .dataframe tbody tr th {\n",
       "        vertical-align: top;\n",
       "    }\n",
       "\n",
       "    .dataframe thead th {\n",
       "        text-align: right;\n",
       "    }\n",
       "</style>\n",
       "<table border=\"1\" class=\"dataframe\">\n",
       "  <thead>\n",
       "    <tr style=\"text-align: right;\">\n",
       "      <th></th>\n",
       "      <th>Type</th>\n",
       "    </tr>\n",
       "  </thead>\n",
       "  <tbody>\n",
       "    <tr>\n",
       "      <th>0</th>\n",
       "      <td>M</td>\n",
       "    </tr>\n",
       "    <tr>\n",
       "      <th>1</th>\n",
       "      <td>L</td>\n",
       "    </tr>\n",
       "    <tr>\n",
       "      <th>2</th>\n",
       "      <td>L</td>\n",
       "    </tr>\n",
       "    <tr>\n",
       "      <th>3</th>\n",
       "      <td>L</td>\n",
       "    </tr>\n",
       "    <tr>\n",
       "      <th>4</th>\n",
       "      <td>L</td>\n",
       "    </tr>\n",
       "    <tr>\n",
       "      <th>...</th>\n",
       "      <td>...</td>\n",
       "    </tr>\n",
       "    <tr>\n",
       "      <th>9995</th>\n",
       "      <td>M</td>\n",
       "    </tr>\n",
       "    <tr>\n",
       "      <th>9996</th>\n",
       "      <td>H</td>\n",
       "    </tr>\n",
       "    <tr>\n",
       "      <th>9997</th>\n",
       "      <td>M</td>\n",
       "    </tr>\n",
       "    <tr>\n",
       "      <th>9998</th>\n",
       "      <td>H</td>\n",
       "    </tr>\n",
       "    <tr>\n",
       "      <th>9999</th>\n",
       "      <td>M</td>\n",
       "    </tr>\n",
       "  </tbody>\n",
       "</table>\n",
       "<p>10000 rows × 1 columns</p>\n",
       "</div>"
      ],
      "text/plain": [
       "     Type\n",
       "0       M\n",
       "1       L\n",
       "2       L\n",
       "3       L\n",
       "4       L\n",
       "...   ...\n",
       "9995    M\n",
       "9996    H\n",
       "9997    M\n",
       "9998    H\n",
       "9999    M\n",
       "\n",
       "[10000 rows x 1 columns]"
      ]
     },
     "execution_count": 258,
     "metadata": {},
     "output_type": "execute_result"
    }
   ],
   "source": [
    "df_cat = df[['Type']]\n",
    "df_cat"
   ]
  },
  {
   "cell_type": "code",
   "execution_count": 259,
   "metadata": {
    "ExecuteTime": {
     "end_time": "2023-09-24T13:43:37.448566Z",
     "start_time": "2023-09-24T13:43:37.227170900Z"
    }
   },
   "outputs": [
    {
     "data": {
      "text/html": [
       "<div>\n",
       "<style scoped>\n",
       "    .dataframe tbody tr th:only-of-type {\n",
       "        vertical-align: middle;\n",
       "    }\n",
       "\n",
       "    .dataframe tbody tr th {\n",
       "        vertical-align: top;\n",
       "    }\n",
       "\n",
       "    .dataframe thead th {\n",
       "        text-align: right;\n",
       "    }\n",
       "</style>\n",
       "<table border=\"1\" class=\"dataframe\">\n",
       "  <thead>\n",
       "    <tr style=\"text-align: right;\">\n",
       "      <th></th>\n",
       "      <th>Air temperature [K]</th>\n",
       "      <th>Process temperature [K]</th>\n",
       "      <th>Rotational speed [rpm]</th>\n",
       "      <th>Torque [Nm]</th>\n",
       "      <th>Tool wear [min]</th>\n",
       "    </tr>\n",
       "  </thead>\n",
       "  <tbody>\n",
       "    <tr>\n",
       "      <th>0</th>\n",
       "      <td>298.1</td>\n",
       "      <td>308.6</td>\n",
       "      <td>1551</td>\n",
       "      <td>42.8</td>\n",
       "      <td>0</td>\n",
       "    </tr>\n",
       "    <tr>\n",
       "      <th>1</th>\n",
       "      <td>298.2</td>\n",
       "      <td>308.7</td>\n",
       "      <td>1408</td>\n",
       "      <td>46.3</td>\n",
       "      <td>3</td>\n",
       "    </tr>\n",
       "    <tr>\n",
       "      <th>2</th>\n",
       "      <td>298.1</td>\n",
       "      <td>308.5</td>\n",
       "      <td>1498</td>\n",
       "      <td>49.4</td>\n",
       "      <td>5</td>\n",
       "    </tr>\n",
       "    <tr>\n",
       "      <th>3</th>\n",
       "      <td>298.2</td>\n",
       "      <td>308.6</td>\n",
       "      <td>1433</td>\n",
       "      <td>39.5</td>\n",
       "      <td>7</td>\n",
       "    </tr>\n",
       "    <tr>\n",
       "      <th>4</th>\n",
       "      <td>298.2</td>\n",
       "      <td>308.7</td>\n",
       "      <td>1408</td>\n",
       "      <td>40.0</td>\n",
       "      <td>9</td>\n",
       "    </tr>\n",
       "    <tr>\n",
       "      <th>...</th>\n",
       "      <td>...</td>\n",
       "      <td>...</td>\n",
       "      <td>...</td>\n",
       "      <td>...</td>\n",
       "      <td>...</td>\n",
       "    </tr>\n",
       "    <tr>\n",
       "      <th>9995</th>\n",
       "      <td>298.8</td>\n",
       "      <td>308.4</td>\n",
       "      <td>1604</td>\n",
       "      <td>29.5</td>\n",
       "      <td>14</td>\n",
       "    </tr>\n",
       "    <tr>\n",
       "      <th>9996</th>\n",
       "      <td>298.9</td>\n",
       "      <td>308.4</td>\n",
       "      <td>1632</td>\n",
       "      <td>31.8</td>\n",
       "      <td>17</td>\n",
       "    </tr>\n",
       "    <tr>\n",
       "      <th>9997</th>\n",
       "      <td>299.0</td>\n",
       "      <td>308.6</td>\n",
       "      <td>1645</td>\n",
       "      <td>33.4</td>\n",
       "      <td>22</td>\n",
       "    </tr>\n",
       "    <tr>\n",
       "      <th>9998</th>\n",
       "      <td>299.0</td>\n",
       "      <td>308.7</td>\n",
       "      <td>1408</td>\n",
       "      <td>48.5</td>\n",
       "      <td>25</td>\n",
       "    </tr>\n",
       "    <tr>\n",
       "      <th>9999</th>\n",
       "      <td>299.0</td>\n",
       "      <td>308.7</td>\n",
       "      <td>1500</td>\n",
       "      <td>40.2</td>\n",
       "      <td>30</td>\n",
       "    </tr>\n",
       "  </tbody>\n",
       "</table>\n",
       "<p>10000 rows × 5 columns</p>\n",
       "</div>"
      ],
      "text/plain": [
       "      Air temperature [K]  Process temperature [K]  Rotational speed [rpm]  \\\n",
       "0                   298.1                    308.6                    1551   \n",
       "1                   298.2                    308.7                    1408   \n",
       "2                   298.1                    308.5                    1498   \n",
       "3                   298.2                    308.6                    1433   \n",
       "4                   298.2                    308.7                    1408   \n",
       "...                   ...                      ...                     ...   \n",
       "9995                298.8                    308.4                    1604   \n",
       "9996                298.9                    308.4                    1632   \n",
       "9997                299.0                    308.6                    1645   \n",
       "9998                299.0                    308.7                    1408   \n",
       "9999                299.0                    308.7                    1500   \n",
       "\n",
       "      Torque [Nm]  Tool wear [min]  \n",
       "0            42.8                0  \n",
       "1            46.3                3  \n",
       "2            49.4                5  \n",
       "3            39.5                7  \n",
       "4            40.0                9  \n",
       "...           ...              ...  \n",
       "9995         29.5               14  \n",
       "9996         31.8               17  \n",
       "9997         33.4               22  \n",
       "9998         48.5               25  \n",
       "9999         40.2               30  \n",
       "\n",
       "[10000 rows x 5 columns]"
      ]
     },
     "execution_count": 259,
     "metadata": {},
     "output_type": "execute_result"
    }
   ],
   "source": [
    "df_num = df.drop(['Type','Machine failure','TWF','HDF','PWF','OSF','RNF'], axis=1)\n",
    "df_num"
   ]
  },
  {
   "cell_type": "code",
   "execution_count": 260,
   "metadata": {
    "ExecuteTime": {
     "end_time": "2023-09-24T13:43:37.449565700Z",
     "start_time": "2023-09-24T13:43:37.233619300Z"
    }
   },
   "outputs": [],
   "source": [
    "from sklearn.preprocessing import MinMaxScaler\n",
    "scaler = MinMaxScaler()"
   ]
  },
  {
   "cell_type": "code",
   "execution_count": 261,
   "metadata": {
    "ExecuteTime": {
     "end_time": "2023-09-24T13:43:37.449565700Z",
     "start_time": "2023-09-24T13:43:37.237578Z"
    }
   },
   "outputs": [
    {
     "data": {
      "text/plain": [
       "array([[0.30434783, 0.35802469, 0.22293364, 0.53571429, 0.        ],\n",
       "       [0.31521739, 0.37037037, 0.13969732, 0.58379121, 0.01185771],\n",
       "       [0.30434783, 0.34567901, 0.19208382, 0.62637363, 0.01976285],\n",
       "       ...,\n",
       "       [0.40217391, 0.35802469, 0.27764843, 0.40659341, 0.08695652],\n",
       "       [0.40217391, 0.37037037, 0.13969732, 0.61401099, 0.09881423],\n",
       "       [0.40217391, 0.37037037, 0.19324796, 0.5       , 0.11857708]])"
      ]
     },
     "execution_count": 261,
     "metadata": {},
     "output_type": "execute_result"
    }
   ],
   "source": [
    "df_num = scaler.fit_transform(df_num)\n",
    "df_num"
   ]
  },
  {
   "cell_type": "code",
   "execution_count": 262,
   "metadata": {
    "ExecuteTime": {
     "end_time": "2023-09-24T13:43:37.449565700Z",
     "start_time": "2023-09-24T13:43:37.243923Z"
    }
   },
   "outputs": [
    {
     "data": {
      "text/html": [
       "<div>\n",
       "<style scoped>\n",
       "    .dataframe tbody tr th:only-of-type {\n",
       "        vertical-align: middle;\n",
       "    }\n",
       "\n",
       "    .dataframe tbody tr th {\n",
       "        vertical-align: top;\n",
       "    }\n",
       "\n",
       "    .dataframe thead th {\n",
       "        text-align: right;\n",
       "    }\n",
       "</style>\n",
       "<table border=\"1\" class=\"dataframe\">\n",
       "  <thead>\n",
       "    <tr style=\"text-align: right;\">\n",
       "      <th></th>\n",
       "      <th>Air temperature [K]</th>\n",
       "      <th>Process temperature [K]</th>\n",
       "      <th>Rotational speed [rpm]</th>\n",
       "      <th>Torque [Nm]</th>\n",
       "      <th>Tool wear [min]</th>\n",
       "    </tr>\n",
       "  </thead>\n",
       "  <tbody>\n",
       "    <tr>\n",
       "      <th>0</th>\n",
       "      <td>0.304348</td>\n",
       "      <td>0.358025</td>\n",
       "      <td>0.222934</td>\n",
       "      <td>0.535714</td>\n",
       "      <td>0.000000</td>\n",
       "    </tr>\n",
       "    <tr>\n",
       "      <th>1</th>\n",
       "      <td>0.315217</td>\n",
       "      <td>0.370370</td>\n",
       "      <td>0.139697</td>\n",
       "      <td>0.583791</td>\n",
       "      <td>0.011858</td>\n",
       "    </tr>\n",
       "    <tr>\n",
       "      <th>2</th>\n",
       "      <td>0.304348</td>\n",
       "      <td>0.345679</td>\n",
       "      <td>0.192084</td>\n",
       "      <td>0.626374</td>\n",
       "      <td>0.019763</td>\n",
       "    </tr>\n",
       "    <tr>\n",
       "      <th>3</th>\n",
       "      <td>0.315217</td>\n",
       "      <td>0.358025</td>\n",
       "      <td>0.154249</td>\n",
       "      <td>0.490385</td>\n",
       "      <td>0.027668</td>\n",
       "    </tr>\n",
       "    <tr>\n",
       "      <th>4</th>\n",
       "      <td>0.315217</td>\n",
       "      <td>0.370370</td>\n",
       "      <td>0.139697</td>\n",
       "      <td>0.497253</td>\n",
       "      <td>0.035573</td>\n",
       "    </tr>\n",
       "    <tr>\n",
       "      <th>...</th>\n",
       "      <td>...</td>\n",
       "      <td>...</td>\n",
       "      <td>...</td>\n",
       "      <td>...</td>\n",
       "      <td>...</td>\n",
       "    </tr>\n",
       "    <tr>\n",
       "      <th>9995</th>\n",
       "      <td>0.380435</td>\n",
       "      <td>0.333333</td>\n",
       "      <td>0.253783</td>\n",
       "      <td>0.353022</td>\n",
       "      <td>0.055336</td>\n",
       "    </tr>\n",
       "    <tr>\n",
       "      <th>9996</th>\n",
       "      <td>0.391304</td>\n",
       "      <td>0.333333</td>\n",
       "      <td>0.270081</td>\n",
       "      <td>0.384615</td>\n",
       "      <td>0.067194</td>\n",
       "    </tr>\n",
       "    <tr>\n",
       "      <th>9997</th>\n",
       "      <td>0.402174</td>\n",
       "      <td>0.358025</td>\n",
       "      <td>0.277648</td>\n",
       "      <td>0.406593</td>\n",
       "      <td>0.086957</td>\n",
       "    </tr>\n",
       "    <tr>\n",
       "      <th>9998</th>\n",
       "      <td>0.402174</td>\n",
       "      <td>0.370370</td>\n",
       "      <td>0.139697</td>\n",
       "      <td>0.614011</td>\n",
       "      <td>0.098814</td>\n",
       "    </tr>\n",
       "    <tr>\n",
       "      <th>9999</th>\n",
       "      <td>0.402174</td>\n",
       "      <td>0.370370</td>\n",
       "      <td>0.193248</td>\n",
       "      <td>0.500000</td>\n",
       "      <td>0.118577</td>\n",
       "    </tr>\n",
       "  </tbody>\n",
       "</table>\n",
       "<p>10000 rows × 5 columns</p>\n",
       "</div>"
      ],
      "text/plain": [
       "      Air temperature [K]  Process temperature [K]  Rotational speed [rpm]  \\\n",
       "0                0.304348                 0.358025                0.222934   \n",
       "1                0.315217                 0.370370                0.139697   \n",
       "2                0.304348                 0.345679                0.192084   \n",
       "3                0.315217                 0.358025                0.154249   \n",
       "4                0.315217                 0.370370                0.139697   \n",
       "...                   ...                      ...                     ...   \n",
       "9995             0.380435                 0.333333                0.253783   \n",
       "9996             0.391304                 0.333333                0.270081   \n",
       "9997             0.402174                 0.358025                0.277648   \n",
       "9998             0.402174                 0.370370                0.139697   \n",
       "9999             0.402174                 0.370370                0.193248   \n",
       "\n",
       "      Torque [Nm]  Tool wear [min]  \n",
       "0        0.535714         0.000000  \n",
       "1        0.583791         0.011858  \n",
       "2        0.626374         0.019763  \n",
       "3        0.490385         0.027668  \n",
       "4        0.497253         0.035573  \n",
       "...           ...              ...  \n",
       "9995     0.353022         0.055336  \n",
       "9996     0.384615         0.067194  \n",
       "9997     0.406593         0.086957  \n",
       "9998     0.614011         0.098814  \n",
       "9999     0.500000         0.118577  \n",
       "\n",
       "[10000 rows x 5 columns]"
      ]
     },
     "execution_count": 262,
     "metadata": {},
     "output_type": "execute_result"
    }
   ],
   "source": [
    "df_num = pd.DataFrame(df_num, columns = ['Air temperature [K]','Process temperature [K]','Rotational speed [rpm]'\n",
    "                                         ,'Torque [Nm]','Tool wear [min]'])\n",
    "df_num"
   ]
  },
  {
   "cell_type": "code",
   "execution_count": 263,
   "metadata": {
    "ExecuteTime": {
     "end_time": "2023-09-24T13:43:37.449565700Z",
     "start_time": "2023-09-24T13:43:37.249340Z"
    }
   },
   "outputs": [],
   "source": [
    "# Alternate method for converting catagorical data to numerical data\n",
    "# from sklearn.preprocessing import OneHotEncoder\n",
    "# encoder = OneHotEncoder()\n",
    "# cat = encoder.fit_transform(df_cat[['Type']]).toarray()"
   ]
  },
  {
   "cell_type": "code",
   "execution_count": 264,
   "metadata": {
    "ExecuteTime": {
     "end_time": "2023-09-24T13:43:37.450566900Z",
     "start_time": "2023-09-24T13:43:37.252815300Z"
    }
   },
   "outputs": [
    {
     "data": {
      "text/html": [
       "<div>\n",
       "<style scoped>\n",
       "    .dataframe tbody tr th:only-of-type {\n",
       "        vertical-align: middle;\n",
       "    }\n",
       "\n",
       "    .dataframe tbody tr th {\n",
       "        vertical-align: top;\n",
       "    }\n",
       "\n",
       "    .dataframe thead th {\n",
       "        text-align: right;\n",
       "    }\n",
       "</style>\n",
       "<table border=\"1\" class=\"dataframe\">\n",
       "  <thead>\n",
       "    <tr style=\"text-align: right;\">\n",
       "      <th></th>\n",
       "      <th>Type_H</th>\n",
       "      <th>Type_L</th>\n",
       "      <th>Type_M</th>\n",
       "    </tr>\n",
       "  </thead>\n",
       "  <tbody>\n",
       "    <tr>\n",
       "      <th>0</th>\n",
       "      <td>0.0</td>\n",
       "      <td>0.0</td>\n",
       "      <td>1.0</td>\n",
       "    </tr>\n",
       "    <tr>\n",
       "      <th>1</th>\n",
       "      <td>0.0</td>\n",
       "      <td>1.0</td>\n",
       "      <td>0.0</td>\n",
       "    </tr>\n",
       "    <tr>\n",
       "      <th>2</th>\n",
       "      <td>0.0</td>\n",
       "      <td>1.0</td>\n",
       "      <td>0.0</td>\n",
       "    </tr>\n",
       "    <tr>\n",
       "      <th>3</th>\n",
       "      <td>0.0</td>\n",
       "      <td>1.0</td>\n",
       "      <td>0.0</td>\n",
       "    </tr>\n",
       "    <tr>\n",
       "      <th>4</th>\n",
       "      <td>0.0</td>\n",
       "      <td>1.0</td>\n",
       "      <td>0.0</td>\n",
       "    </tr>\n",
       "    <tr>\n",
       "      <th>...</th>\n",
       "      <td>...</td>\n",
       "      <td>...</td>\n",
       "      <td>...</td>\n",
       "    </tr>\n",
       "    <tr>\n",
       "      <th>9995</th>\n",
       "      <td>0.0</td>\n",
       "      <td>0.0</td>\n",
       "      <td>1.0</td>\n",
       "    </tr>\n",
       "    <tr>\n",
       "      <th>9996</th>\n",
       "      <td>1.0</td>\n",
       "      <td>0.0</td>\n",
       "      <td>0.0</td>\n",
       "    </tr>\n",
       "    <tr>\n",
       "      <th>9997</th>\n",
       "      <td>0.0</td>\n",
       "      <td>0.0</td>\n",
       "      <td>1.0</td>\n",
       "    </tr>\n",
       "    <tr>\n",
       "      <th>9998</th>\n",
       "      <td>1.0</td>\n",
       "      <td>0.0</td>\n",
       "      <td>0.0</td>\n",
       "    </tr>\n",
       "    <tr>\n",
       "      <th>9999</th>\n",
       "      <td>0.0</td>\n",
       "      <td>0.0</td>\n",
       "      <td>1.0</td>\n",
       "    </tr>\n",
       "  </tbody>\n",
       "</table>\n",
       "<p>10000 rows × 3 columns</p>\n",
       "</div>"
      ],
      "text/plain": [
       "      Type_H  Type_L  Type_M\n",
       "0        0.0     0.0     1.0\n",
       "1        0.0     1.0     0.0\n",
       "2        0.0     1.0     0.0\n",
       "3        0.0     1.0     0.0\n",
       "4        0.0     1.0     0.0\n",
       "...      ...     ...     ...\n",
       "9995     0.0     0.0     1.0\n",
       "9996     1.0     0.0     0.0\n",
       "9997     0.0     0.0     1.0\n",
       "9998     1.0     0.0     0.0\n",
       "9999     0.0     0.0     1.0\n",
       "\n",
       "[10000 rows x 3 columns]"
      ]
     },
     "execution_count": 264,
     "metadata": {},
     "output_type": "execute_result"
    }
   ],
   "source": [
    "cat = pd.get_dummies(df_cat[['Type']], dtype=float)\n",
    "df_cat = pd.DataFrame(cat)\n",
    "\n",
    "df_cat"
   ]
  },
  {
   "cell_type": "code",
   "execution_count": 265,
   "metadata": {
    "ExecuteTime": {
     "end_time": "2023-09-24T13:43:37.450566900Z",
     "start_time": "2023-09-24T13:43:37.262873300Z"
    }
   },
   "outputs": [
    {
     "data": {
      "text/html": [
       "<div>\n",
       "<style scoped>\n",
       "    .dataframe tbody tr th:only-of-type {\n",
       "        vertical-align: middle;\n",
       "    }\n",
       "\n",
       "    .dataframe tbody tr th {\n",
       "        vertical-align: top;\n",
       "    }\n",
       "\n",
       "    .dataframe thead th {\n",
       "        text-align: right;\n",
       "    }\n",
       "</style>\n",
       "<table border=\"1\" class=\"dataframe\">\n",
       "  <thead>\n",
       "    <tr style=\"text-align: right;\">\n",
       "      <th></th>\n",
       "      <th>Type_H</th>\n",
       "      <th>Type_L</th>\n",
       "      <th>Type_M</th>\n",
       "      <th>Air temperature [K]</th>\n",
       "      <th>Process temperature [K]</th>\n",
       "      <th>Rotational speed [rpm]</th>\n",
       "      <th>Torque [Nm]</th>\n",
       "      <th>Tool wear [min]</th>\n",
       "    </tr>\n",
       "  </thead>\n",
       "  <tbody>\n",
       "    <tr>\n",
       "      <th>0</th>\n",
       "      <td>0.0</td>\n",
       "      <td>0.0</td>\n",
       "      <td>1.0</td>\n",
       "      <td>0.304348</td>\n",
       "      <td>0.358025</td>\n",
       "      <td>0.222934</td>\n",
       "      <td>0.535714</td>\n",
       "      <td>0.000000</td>\n",
       "    </tr>\n",
       "    <tr>\n",
       "      <th>1</th>\n",
       "      <td>0.0</td>\n",
       "      <td>1.0</td>\n",
       "      <td>0.0</td>\n",
       "      <td>0.315217</td>\n",
       "      <td>0.370370</td>\n",
       "      <td>0.139697</td>\n",
       "      <td>0.583791</td>\n",
       "      <td>0.011858</td>\n",
       "    </tr>\n",
       "    <tr>\n",
       "      <th>2</th>\n",
       "      <td>0.0</td>\n",
       "      <td>1.0</td>\n",
       "      <td>0.0</td>\n",
       "      <td>0.304348</td>\n",
       "      <td>0.345679</td>\n",
       "      <td>0.192084</td>\n",
       "      <td>0.626374</td>\n",
       "      <td>0.019763</td>\n",
       "    </tr>\n",
       "    <tr>\n",
       "      <th>3</th>\n",
       "      <td>0.0</td>\n",
       "      <td>1.0</td>\n",
       "      <td>0.0</td>\n",
       "      <td>0.315217</td>\n",
       "      <td>0.358025</td>\n",
       "      <td>0.154249</td>\n",
       "      <td>0.490385</td>\n",
       "      <td>0.027668</td>\n",
       "    </tr>\n",
       "    <tr>\n",
       "      <th>4</th>\n",
       "      <td>0.0</td>\n",
       "      <td>1.0</td>\n",
       "      <td>0.0</td>\n",
       "      <td>0.315217</td>\n",
       "      <td>0.370370</td>\n",
       "      <td>0.139697</td>\n",
       "      <td>0.497253</td>\n",
       "      <td>0.035573</td>\n",
       "    </tr>\n",
       "    <tr>\n",
       "      <th>...</th>\n",
       "      <td>...</td>\n",
       "      <td>...</td>\n",
       "      <td>...</td>\n",
       "      <td>...</td>\n",
       "      <td>...</td>\n",
       "      <td>...</td>\n",
       "      <td>...</td>\n",
       "      <td>...</td>\n",
       "    </tr>\n",
       "    <tr>\n",
       "      <th>9995</th>\n",
       "      <td>0.0</td>\n",
       "      <td>0.0</td>\n",
       "      <td>1.0</td>\n",
       "      <td>0.380435</td>\n",
       "      <td>0.333333</td>\n",
       "      <td>0.253783</td>\n",
       "      <td>0.353022</td>\n",
       "      <td>0.055336</td>\n",
       "    </tr>\n",
       "    <tr>\n",
       "      <th>9996</th>\n",
       "      <td>1.0</td>\n",
       "      <td>0.0</td>\n",
       "      <td>0.0</td>\n",
       "      <td>0.391304</td>\n",
       "      <td>0.333333</td>\n",
       "      <td>0.270081</td>\n",
       "      <td>0.384615</td>\n",
       "      <td>0.067194</td>\n",
       "    </tr>\n",
       "    <tr>\n",
       "      <th>9997</th>\n",
       "      <td>0.0</td>\n",
       "      <td>0.0</td>\n",
       "      <td>1.0</td>\n",
       "      <td>0.402174</td>\n",
       "      <td>0.358025</td>\n",
       "      <td>0.277648</td>\n",
       "      <td>0.406593</td>\n",
       "      <td>0.086957</td>\n",
       "    </tr>\n",
       "    <tr>\n",
       "      <th>9998</th>\n",
       "      <td>1.0</td>\n",
       "      <td>0.0</td>\n",
       "      <td>0.0</td>\n",
       "      <td>0.402174</td>\n",
       "      <td>0.370370</td>\n",
       "      <td>0.139697</td>\n",
       "      <td>0.614011</td>\n",
       "      <td>0.098814</td>\n",
       "    </tr>\n",
       "    <tr>\n",
       "      <th>9999</th>\n",
       "      <td>0.0</td>\n",
       "      <td>0.0</td>\n",
       "      <td>1.0</td>\n",
       "      <td>0.402174</td>\n",
       "      <td>0.370370</td>\n",
       "      <td>0.193248</td>\n",
       "      <td>0.500000</td>\n",
       "      <td>0.118577</td>\n",
       "    </tr>\n",
       "  </tbody>\n",
       "</table>\n",
       "<p>10000 rows × 8 columns</p>\n",
       "</div>"
      ],
      "text/plain": [
       "      Type_H  Type_L  Type_M  Air temperature [K]  Process temperature [K]  \\\n",
       "0        0.0     0.0     1.0             0.304348                 0.358025   \n",
       "1        0.0     1.0     0.0             0.315217                 0.370370   \n",
       "2        0.0     1.0     0.0             0.304348                 0.345679   \n",
       "3        0.0     1.0     0.0             0.315217                 0.358025   \n",
       "4        0.0     1.0     0.0             0.315217                 0.370370   \n",
       "...      ...     ...     ...                  ...                      ...   \n",
       "9995     0.0     0.0     1.0             0.380435                 0.333333   \n",
       "9996     1.0     0.0     0.0             0.391304                 0.333333   \n",
       "9997     0.0     0.0     1.0             0.402174                 0.358025   \n",
       "9998     1.0     0.0     0.0             0.402174                 0.370370   \n",
       "9999     0.0     0.0     1.0             0.402174                 0.370370   \n",
       "\n",
       "      Rotational speed [rpm]  Torque [Nm]  Tool wear [min]  \n",
       "0                   0.222934     0.535714         0.000000  \n",
       "1                   0.139697     0.583791         0.011858  \n",
       "2                   0.192084     0.626374         0.019763  \n",
       "3                   0.154249     0.490385         0.027668  \n",
       "4                   0.139697     0.497253         0.035573  \n",
       "...                      ...          ...              ...  \n",
       "9995                0.253783     0.353022         0.055336  \n",
       "9996                0.270081     0.384615         0.067194  \n",
       "9997                0.277648     0.406593         0.086957  \n",
       "9998                0.139697     0.614011         0.098814  \n",
       "9999                0.193248     0.500000         0.118577  \n",
       "\n",
       "[10000 rows x 8 columns]"
      ]
     },
     "execution_count": 265,
     "metadata": {},
     "output_type": "execute_result"
    }
   ],
   "source": [
    "X = pd.concat([df_cat,df_num],axis=1)\n",
    "X"
   ]
  },
  {
   "cell_type": "code",
   "execution_count": 266,
   "metadata": {
    "ExecuteTime": {
     "end_time": "2023-09-24T13:43:37.450566900Z",
     "start_time": "2023-09-24T13:43:37.269461400Z"
    }
   },
   "outputs": [
    {
     "data": {
      "text/html": [
       "<div>\n",
       "<style scoped>\n",
       "    .dataframe tbody tr th:only-of-type {\n",
       "        vertical-align: middle;\n",
       "    }\n",
       "\n",
       "    .dataframe tbody tr th {\n",
       "        vertical-align: top;\n",
       "    }\n",
       "\n",
       "    .dataframe thead th {\n",
       "        text-align: right;\n",
       "    }\n",
       "</style>\n",
       "<table border=\"1\" class=\"dataframe\">\n",
       "  <thead>\n",
       "    <tr style=\"text-align: right;\">\n",
       "      <th></th>\n",
       "      <th>Machine failure</th>\n",
       "    </tr>\n",
       "  </thead>\n",
       "  <tbody>\n",
       "    <tr>\n",
       "      <th>0</th>\n",
       "      <td>0</td>\n",
       "    </tr>\n",
       "    <tr>\n",
       "      <th>1</th>\n",
       "      <td>0</td>\n",
       "    </tr>\n",
       "    <tr>\n",
       "      <th>2</th>\n",
       "      <td>0</td>\n",
       "    </tr>\n",
       "    <tr>\n",
       "      <th>3</th>\n",
       "      <td>0</td>\n",
       "    </tr>\n",
       "    <tr>\n",
       "      <th>4</th>\n",
       "      <td>0</td>\n",
       "    </tr>\n",
       "    <tr>\n",
       "      <th>...</th>\n",
       "      <td>...</td>\n",
       "    </tr>\n",
       "    <tr>\n",
       "      <th>9995</th>\n",
       "      <td>0</td>\n",
       "    </tr>\n",
       "    <tr>\n",
       "      <th>9996</th>\n",
       "      <td>0</td>\n",
       "    </tr>\n",
       "    <tr>\n",
       "      <th>9997</th>\n",
       "      <td>0</td>\n",
       "    </tr>\n",
       "    <tr>\n",
       "      <th>9998</th>\n",
       "      <td>0</td>\n",
       "    </tr>\n",
       "    <tr>\n",
       "      <th>9999</th>\n",
       "      <td>0</td>\n",
       "    </tr>\n",
       "  </tbody>\n",
       "</table>\n",
       "<p>10000 rows × 1 columns</p>\n",
       "</div>"
      ],
      "text/plain": [
       "      Machine failure\n",
       "0                   0\n",
       "1                   0\n",
       "2                   0\n",
       "3                   0\n",
       "4                   0\n",
       "...               ...\n",
       "9995                0\n",
       "9996                0\n",
       "9997                0\n",
       "9998                0\n",
       "9999                0\n",
       "\n",
       "[10000 rows x 1 columns]"
      ]
     },
     "execution_count": 266,
     "metadata": {},
     "output_type": "execute_result"
    }
   ],
   "source": [
    "y = df[['Machine failure']]\n",
    "y"
   ]
  },
  {
   "cell_type": "code",
   "execution_count": 267,
   "metadata": {
    "ExecuteTime": {
     "end_time": "2023-09-24T13:43:37.450566900Z",
     "start_time": "2023-09-24T13:43:37.275215100Z"
    }
   },
   "outputs": [],
   "source": [
    "from sklearn.model_selection import train_test_split, cross_val_score\n",
    "\n",
    "X_train, X_test, y_train, y_test = train_test_split(X,y,test_size=0.2,random_state=101)"
   ]
  },
  {
   "cell_type": "code",
   "execution_count": 268,
   "metadata": {
    "ExecuteTime": {
     "end_time": "2023-09-24T13:43:37.450566900Z",
     "start_time": "2023-09-24T13:43:37.281562Z"
    }
   },
   "outputs": [
    {
     "name": "stdout",
     "output_type": "stream",
     "text": [
      "(8000, 8)\n",
      "(2000, 8)\n",
      "(8000, 1)\n",
      "(2000, 1)\n"
     ]
    }
   ],
   "source": [
    "print(X_train.shape)\n",
    "print(X_test.shape)\n",
    "print(y_train.shape)\n",
    "print(y_test.shape)"
   ]
  },
  {
   "cell_type": "code",
   "execution_count": 269,
   "metadata": {
    "ExecuteTime": {
     "end_time": "2023-09-24T13:43:37.450566900Z",
     "start_time": "2023-09-24T13:43:37.285184600Z"
    }
   },
   "outputs": [],
   "source": [
    "from sklearn.metrics import confusion_matrix,ConfusionMatrixDisplay\n",
    "from sklearn.metrics import f1_score, accuracy_score,precision_score, roc_auc_score, recall_score,roc_auc_score\n",
    "from sklearn.tree import DecisionTreeClassifier\n",
    "target_names=[\"Machine Failure\"]\n"
   ]
  },
  {
   "cell_type": "code",
   "execution_count": 270,
   "metadata": {
    "ExecuteTime": {
     "end_time": "2023-09-24T13:43:37.610109800Z",
     "start_time": "2023-09-24T13:43:37.289565500Z"
    },
    "collapsed": false,
    "jupyter": {
     "outputs_hidden": false
    }
   },
   "outputs": [],
   "source": [
    "#CONFUSION_MATRIX_STORAGE\n",
    "CMS = {}\n",
    "results={}\n",
    "#FIT\n",
    "dt_model01 = DecisionTreeClassifier()\n",
    "dt_model01.fit(X_train, y_train)\n",
    "\n",
    "#Predict\n",
    "dt_model01_prediction = dt_model01.predict(X_test)\n",
    "CMS[\"dt_model01\"] = confusion_matrix(y_test, dt_model01_prediction)\n",
    "\n",
    "#validation\n",
    "dt_model01_cv_recall = cross_val_score(dt_model01, X, y, cv=5, scoring=\"recall\")\n"
   ]
  },
  {
   "cell_type": "code",
   "execution_count": 271,
   "metadata": {
    "ExecuteTime": {
     "end_time": "2023-09-24T13:43:37.610109800Z",
     "start_time": "2023-09-24T13:43:37.564205600Z"
    },
    "collapsed": false,
    "jupyter": {
     "outputs_hidden": false
    }
   },
   "outputs": [],
   "source": [
    "#STATS\n",
    "dt_model01_acc = accuracy_score(y_test, dt_model01_prediction)\n",
    "dt_model01_rec = recall_score(y_test, dt_model01_prediction)\n",
    "dt_model01_pre = precision_score(y_test,dt_model01_prediction)\n",
    "dt_model01_f1s = f1_score(y_test, dt_model01_prediction)\n",
    "dt_model01_test_probs = dt_model01.predict_proba(X_test)[:, 1]\n",
    "dt_model01_roc_auc = roc_auc_score(y_test, dt_model01_test_probs)\n",
    "\n"
   ]
  },
  {
   "cell_type": "code",
   "execution_count": 272,
   "metadata": {
    "ExecuteTime": {
     "end_time": "2023-09-24T13:43:37.653109300Z",
     "start_time": "2023-09-24T13:43:37.579548900Z"
    },
    "collapsed": false,
    "jupyter": {
     "outputs_hidden": false
    }
   },
   "outputs": [
    {
     "data": {
      "text/plain": [
       "{'dt_model01': {'acc': 0.9815,\n",
       "  'rec': 0.7123287671232876,\n",
       "  'pre': 0.7647058823529411,\n",
       "  'f1s': 0.7375886524822695,\n",
       "  'roc_auc': 0.8520128526846328,\n",
       "  'cv_recall': 0.6019315188762071}}"
      ]
     },
     "execution_count": 272,
     "metadata": {},
     "output_type": "execute_result"
    }
   ],
   "source": [
    "#RESULTS_DICT\n",
    "results['dt_model01'] = {\n",
    "        \"acc\":dt_model01_acc,\n",
    "        \"rec\":dt_model01_rec,\n",
    "        \"pre\":dt_model01_pre,\n",
    "        \"f1s\":dt_model01_f1s,\n",
    "        \"roc_auc\":dt_model01_roc_auc,\n",
    "        \"cv_recall\":np.mean(dt_model01_cv_recall)\n",
    "    }\n",
    "results\n"
   ]
  },
  {
   "cell_type": "code",
   "execution_count": null,
   "metadata": {
    "ExecuteTime": {
     "end_time": "2023-09-24T13:43:37.681108900Z",
     "start_time": "2023-09-24T13:43:37.583390800Z"
    },
    "collapsed": false,
    "jupyter": {
     "outputs_hidden": false
    }
   },
   "outputs": [],
   "source": []
  },
  {
   "cell_type": "code",
   "execution_count": 273,
   "metadata": {
    "ExecuteTime": {
     "end_time": "2023-09-24T13:43:37.681108900Z",
     "start_time": "2023-09-24T13:43:37.587105600Z"
    },
    "collapsed": false,
    "jupyter": {
     "outputs_hidden": false
    }
   },
   "outputs": [],
   "source": [
    "#GRID_SEARCH\n",
    "from sklearn.model_selection import GridSearchCV\n"
   ]
  },
  {
   "cell_type": "code",
   "execution_count": 274,
   "metadata": {
    "ExecuteTime": {
     "end_time": "2023-09-24T13:43:59.934178400Z",
     "start_time": "2023-09-24T13:43:37.590109500Z"
    },
    "collapsed": false,
    "jupyter": {
     "outputs_hidden": false
    }
   },
   "outputs": [],
   "source": [
    "#PARAM_GRID_01\n",
    "param_grid_01 = {\n",
    "    'max_depth':[None,5,10],\n",
    "    'min_samples_split':[2,5,10],\n",
    "    'min_samples_leaf':[1,2,4],\n",
    "    'criterion': ['gini','entropy']\n",
    "}\n",
    "\n",
    "#DT_MODEL02 - #PARAM_GRID_01\n",
    "dt_model02 = GridSearchCV(DecisionTreeClassifier(),param_grid_01,refit=True)\n",
    "dt_model02.fit(X_train,y_train)\n",
    "dt_model02_prediction = dt_model02.predict(X_test)\n",
    "CMS[\"dt_model02\"] = confusion_matrix(y_test, dt_model02_prediction)\n",
    "\n",
    "#DT_MODEL02_STATS\n",
    "dt_model02_acc = accuracy_score(y_test, dt_model02_prediction)\n",
    "dt_model02_rec = recall_score(y_test, dt_model02_prediction)\n",
    "dt_model02_pre = precision_score(y_test,dt_model02_prediction)\n",
    "dt_model02_f1s = f1_score(y_test, dt_model02_prediction)\n",
    "dt_model02_test_probs = dt_model02.predict_proba(X_test)[:, 1]\n",
    "dt_model02_roc_auc = roc_auc_score(y_test, dt_model02_test_probs)\n",
    "\n",
    "#validation\n",
    "dt_model02_cv_recall = cross_val_score(dt_model02, X, y, cv=5, scoring=\"recall\")\n",
    "#ADD TO RESULTS\n",
    "\n"
   ]
  },
  {
   "cell_type": "code",
   "execution_count": 275,
   "metadata": {
    "ExecuteTime": {
     "end_time": "2023-09-24T13:43:59.937724200Z",
     "start_time": "2023-09-24T13:43:59.935178600Z"
    },
    "collapsed": false,
    "jupyter": {
     "outputs_hidden": false
    }
   },
   "outputs": [
    {
     "data": {
      "text/plain": [
       "{'dt_model01': {'acc': 0.9815,\n",
       "  'rec': 0.7123287671232876,\n",
       "  'pre': 0.7647058823529411,\n",
       "  'f1s': 0.7375886524822695,\n",
       "  'roc_auc': 0.8520128526846328,\n",
       "  'cv_recall': 0.6019315188762071},\n",
       " 'dt_model02': {'acc': 0.983,\n",
       "  'rec': 0.6986301369863014,\n",
       "  'pre': 0.8095238095238095,\n",
       "  'f1s': 0.7500000000000001,\n",
       "  'roc_auc': 0.9257238521088212,\n",
       "  'cv_recall': 0.3960052677787533}}"
      ]
     },
     "execution_count": 275,
     "metadata": {},
     "output_type": "execute_result"
    }
   ],
   "source": [
    "results['dt_model02'] = {\n",
    "    \"acc\":dt_model02_acc,\n",
    "    \"rec\":dt_model02_rec,\n",
    "    \"pre\":dt_model02_pre,\n",
    "    \"f1s\":dt_model02_f1s,\n",
    "    \"roc_auc\":dt_model02_roc_auc,\n",
    "    \"cv_recall\":np.mean(dt_model02_cv_recall)\n",
    "}\n",
    "results"
   ]
  },
  {
   "cell_type": "code",
   "execution_count": 276,
   "metadata": {
    "ExecuteTime": {
     "end_time": "2023-09-24T13:43:59.945158400Z",
     "start_time": "2023-09-24T13:43:59.938703Z"
    },
    "collapsed": false,
    "jupyter": {
     "outputs_hidden": false
    }
   },
   "outputs": [
    {
     "name": "stdout",
     "output_type": "stream",
     "text": [
      "dt_model02 gridsearch cv \n",
      "BEST ESTIMATOR: \n",
      " DecisionTreeClassifier(criterion='entropy', max_depth=10, min_samples_leaf=2,\n",
      "                       min_samples_split=10)\n",
      "BEST PARAMS: \n",
      " {'criterion': 'entropy', 'max_depth': 10, 'min_samples_leaf': 2, 'min_samples_split': 10}\n",
      "BEST SCORE: \n",
      " 0.98125\n",
      "BEST INDEX: \n",
      " 50\n"
     ]
    }
   ],
   "source": [
    "#DT_MODEL02 - #PARAM_GRID01_BEST\n",
    "model_name = \"\"\n",
    "print(\"dt_model02 gridsearch cv \")\n",
    "print(f\"BEST ESTIMATOR: \\n\",dt_model02.best_estimator_)\n",
    "print(f\"BEST PARAMS: \\n\",dt_model02.best_params_)\n",
    "print(f\"BEST SCORE: \\n\",dt_model02.best_score_)\n",
    "print(f\"BEST INDEX: \\n\",dt_model02.best_index_)"
   ]
  },
  {
   "cell_type": "code",
   "execution_count": 277,
   "metadata": {
    "ExecuteTime": {
     "end_time": "2023-09-24T13:56:12.832153900Z",
     "start_time": "2023-09-24T13:55:48.380078500Z"
    },
    "collapsed": false,
    "jupyter": {
     "outputs_hidden": false
    }
   },
   "outputs": [],
   "source": [
    "#PARAM_GRID_02_SCORING = RECALL\n",
    "param_grid_02 = {\n",
    "    'max_depth':[5,10,15],\n",
    "    'min_samples_split':[2,5,10],\n",
    "    'min_samples_leaf':[2,4,8],\n",
    "    'criterion':['entropy', 'gini']\n",
    "}\n",
    "\n",
    "#DT_MODEL03 - #PARAM_GRID_02\n",
    "dt_model03 = GridSearchCV(DecisionTreeClassifier(),param_grid_02,refit=True, scoring='recall')\n",
    "dt_model03.fit(X_train,y_train)\n",
    "dt_model03_prediction = dt_model03.predict(X_test)\n",
    "CMS[\"dt_model03\"] = confusion_matrix(y_test, dt_model03_prediction)\n",
    "\n",
    "#DT_MODEL03_STATS\n",
    "dt_model03_acc = accuracy_score(y_test, dt_model03_prediction)\n",
    "dt_model03_rec = recall_score(y_test, dt_model03_prediction)\n",
    "dt_model03_pre = precision_score(y_test,dt_model03_prediction)\n",
    "dt_model03_f1s = f1_score(y_test, dt_model03_prediction)\n",
    "dt_model03_test_probs = dt_model03.predict_proba(X_test)[:, 1]\n",
    "dt_model03_roc_auc = roc_auc_score(y_test, dt_model03_test_probs)\n",
    "\n",
    "#VALIDATION\n",
    "dt_model03_cv_recall = cross_val_score(dt_model03, X, y, cv=5, scoring=\"recall\")"
   ]
  },
  {
   "cell_type": "code",
   "execution_count": 278,
   "metadata": {
    "ExecuteTime": {
     "end_time": "2023-09-24T13:44:12.489169400Z",
     "start_time": "2023-09-24T13:44:12.485154400Z"
    },
    "collapsed": false,
    "jupyter": {
     "outputs_hidden": false
    }
   },
   "outputs": [
    {
     "data": {
      "text/plain": [
       "{'dt_model01': {'acc': 0.9815,\n",
       "  'rec': 0.7123287671232876,\n",
       "  'pre': 0.7647058823529411,\n",
       "  'f1s': 0.7375886524822695,\n",
       "  'roc_auc': 0.8520128526846328,\n",
       "  'cv_recall': 0.6019315188762071},\n",
       " 'dt_model02': {'acc': 0.983,\n",
       "  'rec': 0.6986301369863014,\n",
       "  'pre': 0.8095238095238095,\n",
       "  'f1s': 0.7500000000000001,\n",
       "  'roc_auc': 0.9257238521088212,\n",
       "  'cv_recall': 0.3960052677787533},\n",
       " 'dt_model03': {'acc': 0.9835,\n",
       "  'rec': 0.7534246575342466,\n",
       "  'pre': 0.7857142857142857,\n",
       "  'f1s': 0.7692307692307693,\n",
       "  'roc_auc': 0.8802276233196608,\n",
       "  'cv_recall': 0.5723002633889377}}"
      ]
     },
     "execution_count": 278,
     "metadata": {},
     "output_type": "execute_result"
    }
   ],
   "source": [
    "#ADD TO RESULTS\n",
    "results['dt_model03'] = {\n",
    "    \"acc\":dt_model03_acc,\n",
    "    \"rec\":dt_model03_rec,\n",
    "    \"pre\":dt_model03_pre,\n",
    "    \"f1s\":dt_model03_f1s,\n",
    "    \"roc_auc\":dt_model03_roc_auc,\n",
    "    \"cv_recall\":np.mean(dt_model03_cv_recall)\n",
    "}\n",
    "results"
   ]
  },
  {
   "cell_type": "code",
   "execution_count": 279,
   "metadata": {
    "ExecuteTime": {
     "end_time": "2023-09-24T13:44:12.496259200Z",
     "start_time": "2023-09-24T13:44:12.490169500Z"
    },
    "collapsed": false,
    "jupyter": {
     "outputs_hidden": false
    }
   },
   "outputs": [
    {
     "name": "stdout",
     "output_type": "stream",
     "text": [
      "dt_model03 gridsearch cv \n",
      "BEST ESTIMATOR: \n",
      " DecisionTreeClassifier(criterion='entropy', max_depth=15, min_samples_leaf=2,\n",
      "                       min_samples_split=5)\n",
      "BEST PARAMS: \n",
      " {'criterion': 'entropy', 'max_depth': 15, 'min_samples_leaf': 2, 'min_samples_split': 5}\n",
      "BEST SCORE: \n",
      " 0.6541579315164221\n",
      "BEST INDEX: \n",
      " 19\n"
     ]
    }
   ],
   "source": [
    "#DT_MODEL03 - #PARAM_GRID02_BEST\n",
    "print(\"dt_model03 gridsearch cv \")\n",
    "print(f\"BEST ESTIMATOR: \\n\",dt_model03.best_estimator_)\n",
    "print(f\"BEST PARAMS: \\n\",dt_model03.best_params_)\n",
    "print(f\"BEST SCORE: \\n\",dt_model03.best_score_)\n",
    "print(f\"BEST INDEX: \\n\",dt_model03.best_index_)"
   ]
  },
  {
   "cell_type": "code",
   "execution_count": 280,
   "metadata": {
    "ExecuteTime": {
     "end_time": "2023-09-24T14:04:41.125753500Z",
     "start_time": "2023-09-24T14:04:40.983521700Z"
    },
    "collapsed": false,
    "jupyter": {
     "outputs_hidden": false
    }
   },
   "outputs": [],
   "source": [
    "#FEATURE_REMOVAL\n",
    "X_drop = X.drop('Process temperature [K]', axis=1)\n",
    "X_drop\n",
    "\n",
    "X_train, X_test, y_train, y_test = train_test_split(X_drop,y,test_size=0.2,random_state=101)\n",
    "\n",
    "#FIT\n",
    "dt_model04 = DecisionTreeClassifier(class_weight='balanced', max_depth = 10, min_samples_split = 5, min_samples_leaf = 2, criterion ='entropy')\n",
    "dt_model04.fit(X_train, y_train)\n",
    "#PREDICTION\n",
    "dt_model04_prediction = dt_model04.predict(X_test)\n",
    "CMS[\"dt_model04\"] = confusion_matrix(y_test, dt_model04_prediction)\n",
    "\n",
    "#VALIDATION\n",
    "dt_model04_cv_recall = cross_val_score(dt_model04, X, y, cv=5, scoring=\"recall\")"
   ]
  },
  {
   "cell_type": "code",
   "execution_count": 281,
   "metadata": {
    "ExecuteTime": {
     "end_time": "2023-09-24T14:04:42.930975100Z",
     "start_time": "2023-09-24T14:04:42.911058Z"
    },
    "collapsed": false,
    "jupyter": {
     "outputs_hidden": false
    }
   },
   "outputs": [],
   "source": [
    "#FEATURE_REMOVAL_STATS\n",
    "dt_model04_acc = accuracy_score(y_test, dt_model04_prediction)\n",
    "dt_model04_rec = recall_score(y_test, dt_model04_prediction)\n",
    "dt_model04_pre = precision_score(y_test,dt_model04_prediction)\n",
    "dt_model04_f1s = f1_score(y_test, dt_model04_prediction)\n",
    "dt_model04_test_probs = dt_model04.predict_proba(X_test)[:, 1]\n",
    "dt_model04_roc_auc = roc_auc_score(y_test, dt_model04_test_probs)\n",
    "\n"
   ]
  },
  {
   "cell_type": "code",
   "execution_count": 282,
   "metadata": {
    "ExecuteTime": {
     "end_time": "2023-09-24T14:04:45.038482200Z",
     "start_time": "2023-09-24T14:04:45.020476800Z"
    },
    "collapsed": false,
    "jupyter": {
     "outputs_hidden": false
    }
   },
   "outputs": [
    {
     "data": {
      "text/plain": [
       "{'dt_model01': {'acc': 0.9815,\n",
       "  'rec': 0.7123287671232876,\n",
       "  'pre': 0.7647058823529411,\n",
       "  'f1s': 0.7375886524822695,\n",
       "  'roc_auc': 0.8520128526846328,\n",
       "  'cv_recall': 0.6019315188762071},\n",
       " 'dt_model02': {'acc': 0.983,\n",
       "  'rec': 0.6986301369863014,\n",
       "  'pre': 0.8095238095238095,\n",
       "  'f1s': 0.7500000000000001,\n",
       "  'roc_auc': 0.9257238521088212,\n",
       "  'cv_recall': 0.3960052677787533},\n",
       " 'dt_model03': {'acc': 0.9835,\n",
       "  'rec': 0.7534246575342466,\n",
       "  'pre': 0.7857142857142857,\n",
       "  'f1s': 0.7692307692307693,\n",
       "  'roc_auc': 0.8802276233196608,\n",
       "  'cv_recall': 0.5723002633889377},\n",
       " 'dt_model04': {'acc': 0.9525,\n",
       "  'rec': 0.7671232876712328,\n",
       "  'pre': 0.417910447761194,\n",
       "  'f1s': 0.5410628019323672,\n",
       "  'roc_auc': 0.8727705070696874,\n",
       "  'cv_recall': 0.5725636523266023}}"
      ]
     },
     "execution_count": 282,
     "metadata": {},
     "output_type": "execute_result"
    }
   ],
   "source": [
    "#FEATURE_REMOVAL_RESULTS_DICT\n",
    "results['dt_model04'] = {\n",
    "    \"acc\":dt_model04_acc,\n",
    "    \"rec\":dt_model04_rec,\n",
    "    \"pre\":dt_model04_pre,\n",
    "    \"f1s\":dt_model04_f1s,\n",
    "    \"roc_auc\":dt_model04_roc_auc,\n",
    "    \"cv_recall\":np.mean(dt_model04_cv_recall)\n",
    "}\n",
    "results\n"
   ]
  },
  {
   "cell_type": "code",
   "execution_count": 283,
   "metadata": {
    "ExecuteTime": {
     "end_time": "2023-09-24T14:40:30.589410300Z",
     "start_time": "2023-09-24T14:40:30.338439100Z"
    },
    "collapsed": false,
    "jupyter": {
     "outputs_hidden": false
    }
   },
   "outputs": [
    {
     "name": "stdout",
     "output_type": "stream",
     "text": [
      "Class 1 count: 7734, Class 2 count: 266\n"
     ]
    }
   ],
   "source": [
    "#UNDER_SAMPLING\n",
    "train_df = pd.concat([X_train, y_train], axis=1)\n",
    "\n",
    "# Divide the samples by the prediction class\n",
    "target1 = train_df[train_df.iloc[:,-1] == 0]\n",
    "target2 = train_df[train_df.iloc[:,-1] == 1]\n",
    "\n",
    "# Count the number of samples in each class\n",
    "target1_count, target2_count = train_df.iloc[:,-1].value_counts()\n",
    "print(f\"Class 1 count: {target1_count}, Class 2 count: {target2_count}\")\n",
    "\n",
    "# Reduce the samples of class 1 using the number of samples in class 2\n",
    "target1_u = target1.sample(target2_count, random_state=42)\n",
    "train_df_u = pd.concat([target1_u, target2], axis=0)\n",
    "\n",
    "# Divide the features and target for undersampled data\n",
    "X_train_u = train_df_u.drop(['Machine failure'], axis=1)\n",
    "y_train_u = train_df_u[['Machine failure']]\n",
    "\n"
   ]
  },
  {
   "cell_type": "code",
   "execution_count": 285,
   "metadata": {
    "collapsed": false,
    "jupyter": {
     "outputs_hidden": false
    }
   },
   "outputs": [],
   "source": [
    "# Create a Decision Tree classifier\n",
    "dt_model05 = DecisionTreeClassifier(class_weight='balanced', max_depth = 10, min_samples_split = 5, min_samples_leaf = 2, criterion ='entropy')\n",
    "\n",
    "# Train the classifier on the undersampled training data (FIT)\n",
    "dt_model05.fit(X_train_u, y_train_u)\n",
    "\n",
    "# Make predictions on the test set\n",
    "dt_model05_prediction = dt_model05.predict(X_test)\n",
    "CMS[\"dt_model05\"] = confusion_matrix(y_test, dt_model05_prediction)\n",
    "\n",
    "#VALIDATION\n",
    "dt_model05_cv_recall = cross_val_score(dt_model05, X, y, cv=5, scoring=\"recall\")"
   ]
  },
  {
   "cell_type": "code",
   "execution_count": 286,
   "metadata": {},
   "outputs": [],
   "source": [
    "#UNDERSAMPLING_STATS\n",
    "dt_model05_acc = accuracy_score(y_test, dt_model05_prediction)\n",
    "dt_model05_rec = recall_score(y_test, dt_model05_prediction)\n",
    "dt_model05_pre = precision_score(y_test,dt_model05_prediction)\n",
    "dt_model05_f1s = f1_score(y_test, dt_model05_prediction)\n",
    "dt_model05_test_probs = dt_model05.predict_proba(X_test)[:, 1]\n",
    "dt_model05_roc_auc = roc_auc_score(y_test, dt_model05_test_probs)"
   ]
  },
  {
   "cell_type": "code",
   "execution_count": 287,
   "metadata": {},
   "outputs": [
    {
     "data": {
      "text/plain": [
       "{'dt_model01': {'acc': 0.9815,\n",
       "  'rec': 0.7123287671232876,\n",
       "  'pre': 0.7647058823529411,\n",
       "  'f1s': 0.7375886524822695,\n",
       "  'roc_auc': 0.8520128526846328,\n",
       "  'cv_recall': 0.6019315188762071},\n",
       " 'dt_model02': {'acc': 0.983,\n",
       "  'rec': 0.6986301369863014,\n",
       "  'pre': 0.8095238095238095,\n",
       "  'f1s': 0.7500000000000001,\n",
       "  'roc_auc': 0.9257238521088212,\n",
       "  'cv_recall': 0.3960052677787533},\n",
       " 'dt_model03': {'acc': 0.9835,\n",
       "  'rec': 0.7534246575342466,\n",
       "  'pre': 0.7857142857142857,\n",
       "  'f1s': 0.7692307692307693,\n",
       "  'roc_auc': 0.8802276233196608,\n",
       "  'cv_recall': 0.5723002633889377},\n",
       " 'dt_model04': {'acc': 0.9525,\n",
       "  'rec': 0.7671232876712328,\n",
       "  'pre': 0.417910447761194,\n",
       "  'f1s': 0.5410628019323672,\n",
       "  'roc_auc': 0.8727705070696874,\n",
       "  'cv_recall': 0.5725636523266023},\n",
       " 'dt_model05': {'acc': 0.8875,\n",
       "  'rec': 0.8493150684931506,\n",
       "  'pre': 0.2246376811594203,\n",
       "  'f1s': 0.3553008595988538,\n",
       "  'roc_auc': 0.8803413638916336,\n",
       "  'cv_recall': 0.5755487269534679}}"
      ]
     },
     "execution_count": 287,
     "metadata": {},
     "output_type": "execute_result"
    }
   ],
   "source": [
    "#ADD TO RESULTS\n",
    "results['dt_model05'] = {\n",
    "        \"acc\":dt_model05_acc,\n",
    "        \"rec\":dt_model05_rec,\n",
    "        \"pre\":dt_model05_pre,\n",
    "        \"f1s\":dt_model05_f1s,\n",
    "        \"roc_auc\":dt_model05_roc_auc,\n",
    "        \"cv_recall\":np.mean(dt_model05_cv_recall)\n",
    "    }\n",
    "results"
   ]
  },
  {
   "cell_type": "code",
   "execution_count": null,
   "metadata": {},
   "outputs": [],
   "source": []
  },
  {
   "cell_type": "code",
   "execution_count": 288,
   "metadata": {},
   "outputs": [],
   "source": [
    "# Random Over_Sampling"
   ]
  },
  {
   "cell_type": "code",
   "execution_count": 289,
   "metadata": {},
   "outputs": [],
   "source": [
    "train_df = pd.concat([X_train,y_train],axis=1)\n",
    "target1 = train_df[train_df.iloc[:,-1] == 0]\n",
    "target2 = train_df[train_df.iloc[:,-1] == 1]\n",
    "\n",
    "target1_count , target2_count = train_df.iloc[:,-1].value_counts()\n",
    "\n",
    "# Oversaampling class 1\n",
    "target2_o = target2.sample(target1_count, replace=True)\n",
    "train_df_o = pd.concat([target1, target2_o], axis=0)"
   ]
  },
  {
   "cell_type": "code",
   "execution_count": 290,
   "metadata": {},
   "outputs": [
    {
     "data": {
      "text/plain": [
       "(15468, 8)"
      ]
     },
     "execution_count": 290,
     "metadata": {},
     "output_type": "execute_result"
    }
   ],
   "source": [
    "train_df_o.shape"
   ]
  },
  {
   "cell_type": "code",
   "execution_count": 291,
   "metadata": {},
   "outputs": [],
   "source": [
    "X_train_o = train_df_o.drop(['Machine failure'],axis=1)\n",
    "y_train_o = train_df_o[['Machine failure']]"
   ]
  },
  {
   "cell_type": "code",
   "execution_count": 292,
   "metadata": {},
   "outputs": [
    {
     "data": {
      "text/plain": [
       "(15468, 1)"
      ]
     },
     "execution_count": 292,
     "metadata": {},
     "output_type": "execute_result"
    }
   ],
   "source": [
    "y_train_o.shape"
   ]
  },
  {
   "cell_type": "code",
   "execution_count": 294,
   "metadata": {},
   "outputs": [],
   "source": [
    "# Create a Decision Tree classifier\n",
    "dt_model06 = DecisionTreeClassifier(class_weight='balanced',max_depth = 10, min_samples_split = 5, min_samples_leaf = 2, criterion ='entropy')"
   ]
  },
  {
   "cell_type": "code",
   "execution_count": 295,
   "metadata": {},
   "outputs": [
    {
     "data": {
      "text/html": [
       "<style>#sk-container-id-4 {color: black;}#sk-container-id-4 pre{padding: 0;}#sk-container-id-4 div.sk-toggleable {background-color: white;}#sk-container-id-4 label.sk-toggleable__label {cursor: pointer;display: block;width: 100%;margin-bottom: 0;padding: 0.3em;box-sizing: border-box;text-align: center;}#sk-container-id-4 label.sk-toggleable__label-arrow:before {content: \"▸\";float: left;margin-right: 0.25em;color: #696969;}#sk-container-id-4 label.sk-toggleable__label-arrow:hover:before {color: black;}#sk-container-id-4 div.sk-estimator:hover label.sk-toggleable__label-arrow:before {color: black;}#sk-container-id-4 div.sk-toggleable__content {max-height: 0;max-width: 0;overflow: hidden;text-align: left;background-color: #f0f8ff;}#sk-container-id-4 div.sk-toggleable__content pre {margin: 0.2em;color: black;border-radius: 0.25em;background-color: #f0f8ff;}#sk-container-id-4 input.sk-toggleable__control:checked~div.sk-toggleable__content {max-height: 200px;max-width: 100%;overflow: auto;}#sk-container-id-4 input.sk-toggleable__control:checked~label.sk-toggleable__label-arrow:before {content: \"▾\";}#sk-container-id-4 div.sk-estimator input.sk-toggleable__control:checked~label.sk-toggleable__label {background-color: #d4ebff;}#sk-container-id-4 div.sk-label input.sk-toggleable__control:checked~label.sk-toggleable__label {background-color: #d4ebff;}#sk-container-id-4 input.sk-hidden--visually {border: 0;clip: rect(1px 1px 1px 1px);clip: rect(1px, 1px, 1px, 1px);height: 1px;margin: -1px;overflow: hidden;padding: 0;position: absolute;width: 1px;}#sk-container-id-4 div.sk-estimator {font-family: monospace;background-color: #f0f8ff;border: 1px dotted black;border-radius: 0.25em;box-sizing: border-box;margin-bottom: 0.5em;}#sk-container-id-4 div.sk-estimator:hover {background-color: #d4ebff;}#sk-container-id-4 div.sk-parallel-item::after {content: \"\";width: 100%;border-bottom: 1px solid gray;flex-grow: 1;}#sk-container-id-4 div.sk-label:hover label.sk-toggleable__label {background-color: #d4ebff;}#sk-container-id-4 div.sk-serial::before {content: \"\";position: absolute;border-left: 1px solid gray;box-sizing: border-box;top: 0;bottom: 0;left: 50%;z-index: 0;}#sk-container-id-4 div.sk-serial {display: flex;flex-direction: column;align-items: center;background-color: white;padding-right: 0.2em;padding-left: 0.2em;position: relative;}#sk-container-id-4 div.sk-item {position: relative;z-index: 1;}#sk-container-id-4 div.sk-parallel {display: flex;align-items: stretch;justify-content: center;background-color: white;position: relative;}#sk-container-id-4 div.sk-item::before, #sk-container-id-4 div.sk-parallel-item::before {content: \"\";position: absolute;border-left: 1px solid gray;box-sizing: border-box;top: 0;bottom: 0;left: 50%;z-index: -1;}#sk-container-id-4 div.sk-parallel-item {display: flex;flex-direction: column;z-index: 1;position: relative;background-color: white;}#sk-container-id-4 div.sk-parallel-item:first-child::after {align-self: flex-end;width: 50%;}#sk-container-id-4 div.sk-parallel-item:last-child::after {align-self: flex-start;width: 50%;}#sk-container-id-4 div.sk-parallel-item:only-child::after {width: 0;}#sk-container-id-4 div.sk-dashed-wrapped {border: 1px dashed gray;margin: 0 0.4em 0.5em 0.4em;box-sizing: border-box;padding-bottom: 0.4em;background-color: white;}#sk-container-id-4 div.sk-label label {font-family: monospace;font-weight: bold;display: inline-block;line-height: 1.2em;}#sk-container-id-4 div.sk-label-container {text-align: center;}#sk-container-id-4 div.sk-container {/* jupyter's `normalize.less` sets `[hidden] { display: none; }` but bootstrap.min.css set `[hidden] { display: none !important; }` so we also need the `!important` here to be able to override the default hidden behavior on the sphinx rendered scikit-learn.org. See: https://github.com/scikit-learn/scikit-learn/issues/21755 */display: inline-block !important;position: relative;}#sk-container-id-4 div.sk-text-repr-fallback {display: none;}</style><div id=\"sk-container-id-4\" class=\"sk-top-container\"><div class=\"sk-text-repr-fallback\"><pre>DecisionTreeClassifier(class_weight=&#x27;balanced&#x27;, criterion=&#x27;entropy&#x27;,\n",
       "                       max_depth=10, min_samples_leaf=2, min_samples_split=5)</pre><b>In a Jupyter environment, please rerun this cell to show the HTML representation or trust the notebook. <br />On GitHub, the HTML representation is unable to render, please try loading this page with nbviewer.org.</b></div><div class=\"sk-container\" hidden><div class=\"sk-item\"><div class=\"sk-estimator sk-toggleable\"><input class=\"sk-toggleable__control sk-hidden--visually\" id=\"sk-estimator-id-4\" type=\"checkbox\" checked><label for=\"sk-estimator-id-4\" class=\"sk-toggleable__label sk-toggleable__label-arrow\">DecisionTreeClassifier</label><div class=\"sk-toggleable__content\"><pre>DecisionTreeClassifier(class_weight=&#x27;balanced&#x27;, criterion=&#x27;entropy&#x27;,\n",
       "                       max_depth=10, min_samples_leaf=2, min_samples_split=5)</pre></div></div></div></div></div>"
      ],
      "text/plain": [
       "DecisionTreeClassifier(class_weight='balanced', criterion='entropy',\n",
       "                       max_depth=10, min_samples_leaf=2, min_samples_split=5)"
      ]
     },
     "execution_count": 295,
     "metadata": {},
     "output_type": "execute_result"
    }
   ],
   "source": [
    "# Create a Decision Tree classifier\n",
    "dt_model06.fit(X_train_o,y_train_o)"
   ]
  },
  {
   "cell_type": "code",
   "execution_count": 296,
   "metadata": {},
   "outputs": [],
   "source": [
    "# Make predictions on the test set\n",
    "dt_model06_prediction = dt_model06.predict(X_test)\n",
    "CMS[\"dt_model06\"] = confusion_matrix(y_test, dt_model06_prediction)\n",
    "\n",
    "#VALIDATION\n",
    "dt_model06_cv_recall = cross_val_score(dt_model06, X, y, cv=5, scoring=\"recall\")"
   ]
  },
  {
   "cell_type": "code",
   "execution_count": 297,
   "metadata": {},
   "outputs": [],
   "source": [
    "#OVERRSAMPLING_STATS\n",
    "dt_model06_acc = accuracy_score(y_test, dt_model06_prediction)\n",
    "dt_model06_rec = recall_score(y_test, dt_model06_prediction)\n",
    "dt_model06_pre = precision_score(y_test,dt_model06_prediction)\n",
    "dt_model06_f1s = f1_score(y_test, dt_model06_prediction)\n",
    "dt_model06_test_probs = dt_model06.predict_proba(X_test)[:, 1]\n",
    "dt_model06_roc_auc = roc_auc_score(y_test, dt_model06_test_probs)"
   ]
  },
  {
   "cell_type": "code",
   "execution_count": 298,
   "metadata": {},
   "outputs": [
    {
     "data": {
      "text/plain": [
       "{'dt_model01': {'acc': 0.9815,\n",
       "  'rec': 0.7123287671232876,\n",
       "  'pre': 0.7647058823529411,\n",
       "  'f1s': 0.7375886524822695,\n",
       "  'roc_auc': 0.8520128526846328,\n",
       "  'cv_recall': 0.6019315188762071},\n",
       " 'dt_model02': {'acc': 0.983,\n",
       "  'rec': 0.6986301369863014,\n",
       "  'pre': 0.8095238095238095,\n",
       "  'f1s': 0.7500000000000001,\n",
       "  'roc_auc': 0.9257238521088212,\n",
       "  'cv_recall': 0.3960052677787533},\n",
       " 'dt_model03': {'acc': 0.9835,\n",
       "  'rec': 0.7534246575342466,\n",
       "  'pre': 0.7857142857142857,\n",
       "  'f1s': 0.7692307692307693,\n",
       "  'roc_auc': 0.8802276233196608,\n",
       "  'cv_recall': 0.5723002633889377},\n",
       " 'dt_model04': {'acc': 0.9525,\n",
       "  'rec': 0.7671232876712328,\n",
       "  'pre': 0.417910447761194,\n",
       "  'f1s': 0.5410628019323672,\n",
       "  'roc_auc': 0.8727705070696874,\n",
       "  'cv_recall': 0.5725636523266023},\n",
       " 'dt_model05': {'acc': 0.8875,\n",
       "  'rec': 0.8493150684931506,\n",
       "  'pre': 0.2246376811594203,\n",
       "  'f1s': 0.3553008595988538,\n",
       "  'roc_auc': 0.8803413638916336,\n",
       "  'cv_recall': 0.5755487269534679},\n",
       " 'dt_model06': {'acc': 0.9575,\n",
       "  'rec': 0.7534246575342466,\n",
       "  'pre': 0.45081967213114754,\n",
       "  'f1s': 0.5641025641025641,\n",
       "  'roc_auc': 0.8650965728543907,\n",
       "  'cv_recall': 0.5755487269534679}}"
      ]
     },
     "execution_count": 298,
     "metadata": {},
     "output_type": "execute_result"
    }
   ],
   "source": [
    "#ADD TO RESULTS\n",
    "results['dt_model06'] = {\n",
    "        \"acc\":dt_model06_acc,\n",
    "        \"rec\":dt_model06_rec,\n",
    "        \"pre\":dt_model06_pre,\n",
    "        \"f1s\":dt_model06_f1s,\n",
    "        \"roc_auc\":dt_model06_roc_auc,\n",
    "        \"cv_recall\":np.mean(dt_model05_cv_recall)\n",
    "    }\n",
    "results"
   ]
  },
  {
   "cell_type": "code",
   "execution_count": null,
   "metadata": {},
   "outputs": [],
   "source": []
  },
  {
   "cell_type": "code",
   "execution_count": 254,
   "metadata": {
    "ExecuteTime": {
     "end_time": "2023-09-24T14:06:49.886629200Z",
     "start_time": "2023-09-24T14:06:49.881897300Z"
    },
    "collapsed": false,
    "jupyter": {
     "outputs_hidden": false
    }
   },
   "outputs": [
    {
     "name": "stdout",
     "output_type": "stream",
     "text": [
      "Model:dt_model01\n",
      "acc: 0.979\n",
      "rec: 0.6986301369863014\n",
      "pre: 0.7183098591549296\n",
      "f1s: 0.7083333333333335\n",
      "roc_auc: 0.8441256548968872\n",
      "cv_recall: 0.6079894644424935\n",
      "-------------\n",
      "Model:dt_model02\n",
      "acc: 0.9835\n",
      "rec: 0.726027397260274\n",
      "pre: 0.803030303030303\n",
      "f1s: 0.7625899280575539\n",
      "roc_auc: 0.8976974642961236\n",
      "cv_recall: 0.3989464442493415\n",
      "-------------\n",
      "Model:dt_model03\n",
      "acc: 0.9815\n",
      "rec: 0.7397260273972602\n",
      "pre: 0.75\n",
      "f1s: 0.7448275862068966\n",
      "roc_auc: 0.8790511192783161\n",
      "cv_recall: 0.5633450395083407\n",
      "-------------\n",
      "Model:dt_model04\n",
      "acc: 0.9555\n",
      "rec: 0.7671232876712328\n",
      "pre: 0.4375\n",
      "f1s: 0.5572139303482587\n",
      "roc_auc: 0.8739612286825287\n",
      "cv_recall: 0.5902546093064092\n",
      "-------------\n",
      "Model:dt_model05\n",
      "acc: 0.8915\n",
      "rec: 0.863013698630137\n",
      "pre: 0.23333333333333334\n",
      "f1s: 0.3673469387755102\n",
      "roc_auc: 0.883017821725871\n",
      "cv_recall: 0.5457857769973662\n",
      "-------------\n",
      "Model:dt_model06\n",
      "acc: 0.962\n",
      "rec: 0.7671232876712328\n",
      "pre: 0.48695652173913045\n",
      "f1s: 0.5957446808510638\n",
      "roc_auc: 0.8744232997561686\n",
      "cv_recall: 0.5457857769973662\n",
      "-------------\n"
     ]
    }
   ],
   "source": [
    "#PRINT RESULTS\n",
    "for model,metrics in results.items():\n",
    "    print(f\"Model:{model}\")\n",
    "    for metric,value in metrics.items():\n",
    "        print(f\"{metric}: {value}\")\n",
    "    print(\"-------------\")"
   ]
  },
  {
   "cell_type": "code",
   "execution_count": 202,
   "metadata": {
    "ExecuteTime": {
     "end_time": "2023-09-24T13:44:12.607204Z",
     "start_time": "2023-09-24T13:44:12.505837500Z"
    },
    "collapsed": false,
    "jupyter": {
     "outputs_hidden": false
    }
   },
   "outputs": [
    {
     "data": {
      "text/plain": [
       "<sklearn.metrics._plot.confusion_matrix.ConfusionMatrixDisplay at 0x1d79ca1abd0>"
      ]
     },
     "execution_count": 202,
     "metadata": {},
     "output_type": "execute_result"
    },
    {
     "data": {
      "image/png": "[encoded data removed]",
      "text/plain": [
       "<Figure size 600x600 with 2 Axes>"
      ]
     },
     "metadata": {},
     "output_type": "display_data"
    }
   ],
   "source": [
    "\n",
    "disp = ConfusionMatrixDisplay(confusion_matrix=CMS['dt_model01'], display_labels=dt_model01.classes_)\n",
    "fig, ax = plt.subplots(figsize=(6, 6))\n",
    "plt.title('dt_model01')\n",
    "plt.grid(None)\n",
    "disp.plot(ax=ax)"
   ]
  },
  {
   "cell_type": "code",
   "execution_count": 203,
   "metadata": {
    "ExecuteTime": {
     "end_time": "2023-09-24T13:44:12.706350800Z",
     "start_time": "2023-09-24T13:44:12.608204600Z"
    },
    "collapsed": false,
    "jupyter": {
     "outputs_hidden": false
    }
   },
   "outputs": [
    {
     "data": {
      "text/plain": [
       "<sklearn.metrics._plot.confusion_matrix.ConfusionMatrixDisplay at 0x1d79c895210>"
      ]
     },
     "execution_count": 203,
     "metadata": {},
     "output_type": "execute_result"
    },
    {
     "data": {
      "image/png": "[encoded data removed]",
      "text/plain": [
       "<Figure size 600x600 with 2 Axes>"
      ]
     },
     "metadata": {},
     "output_type": "display_data"
    }
   ],
   "source": [
    "\n",
    "disp = ConfusionMatrixDisplay(confusion_matrix=CMS['dt_model02'], display_labels=dt_model02.classes_)\n",
    "fig, ax = plt.subplots(figsize=(6, 6))\n",
    "plt.title('dt_model02')\n",
    "plt.grid(None)\n",
    "disp.plot(ax=ax)"
   ]
  },
  {
   "cell_type": "code",
   "execution_count": 204,
   "metadata": {
    "ExecuteTime": {
     "end_time": "2023-09-24T13:44:12.807600300Z",
     "start_time": "2023-09-24T13:44:12.707302200Z"
    },
    "collapsed": false,
    "jupyter": {
     "outputs_hidden": false
    }
   },
   "outputs": [
    {
     "data": {
      "text/plain": [
       "<sklearn.metrics._plot.confusion_matrix.ConfusionMatrixDisplay at 0x1d79c8b5910>"
      ]
     },
     "execution_count": 204,
     "metadata": {},
     "output_type": "execute_result"
    },
    {
     "data": {
      "image/png": "[encoded data removed]",
      "text/plain": [
       "<Figure size 600x600 with 2 Axes>"
      ]
     },
     "metadata": {},
     "output_type": "display_data"
    }
   ],
   "source": [
    "\n",
    "disp = ConfusionMatrixDisplay(confusion_matrix=CMS['dt_model03'], display_labels=dt_model03.classes_)\n",
    "fig, ax = plt.subplots(figsize=(6, 6))\n",
    "plt.title('dt_model03')\n",
    "plt.grid(None)\n",
    "disp.plot(ax=ax)"
   ]
  },
  {
   "cell_type": "code",
   "execution_count": 205,
   "metadata": {
    "ExecuteTime": {
     "end_time": "2023-09-24T14:08:24.385096800Z",
     "start_time": "2023-09-24T14:08:24.281617900Z"
    },
    "collapsed": false,
    "jupyter": {
     "outputs_hidden": false
    }
   },
   "outputs": [
    {
     "data": {
      "text/plain": [
       "<sklearn.metrics._plot.confusion_matrix.ConfusionMatrixDisplay at 0x1d79de97090>"
      ]
     },
     "execution_count": 205,
     "metadata": {},
     "output_type": "execute_result"
    },
    {
     "data": {
      "image/png": "[encoded data removed]",
      "text/plain": [
       "<Figure size 600x600 with 2 Axes>"
      ]
     },
     "metadata": {},
     "output_type": "display_data"
    }
   ],
   "source": [
    "\n",
    "disp = ConfusionMatrixDisplay(confusion_matrix=CMS['dt_model04'], display_labels=dt_model04.classes_)\n",
    "fig, ax = plt.subplots(figsize=(6, 6))\n",
    "plt.title('dt_model04')\n",
    "plt.grid(None)\n",
    "disp.plot(ax=ax)"
   ]
  },
  {
   "cell_type": "code",
   "execution_count": 206,
   "metadata": {},
   "outputs": [
    {
     "data": {
      "text/plain": [
       "<sklearn.metrics._plot.confusion_matrix.ConfusionMatrixDisplay at 0x1d79c826410>"
      ]
     },
     "execution_count": 206,
     "metadata": {},
     "output_type": "execute_result"
    },
    {
     "data": {
      "image/png": "[encoded data removed]",
      "text/plain": [
       "<Figure size 600x600 with 2 Axes>"
      ]
     },
     "metadata": {},
     "output_type": "display_data"
    }
   ],
   "source": [
    "disp = ConfusionMatrixDisplay(confusion_matrix=CMS['dt_model05'], display_labels=dt_model05.classes_)\n",
    "fig, ax = plt.subplots(figsize=(6, 6))\n",
    "plt.title('Decision Tree Model')\n",
    "plt.grid(None)\n",
    "disp.plot(ax=ax)"
   ]
  },
  {
   "cell_type": "code",
   "execution_count": 207,
   "metadata": {},
   "outputs": [
    {
     "data": {
      "text/plain": [
       "<sklearn.metrics._plot.confusion_matrix.ConfusionMatrixDisplay at 0x1d79dd10850>"
      ]
     },
     "execution_count": 207,
     "metadata": {},
     "output_type": "execute_result"
    },
    {
     "data": {
      "image/png": "[encoded data removed]",
      "text/plain": [
       "<Figure size 600x600 with 2 Axes>"
      ]
     },
     "metadata": {},
     "output_type": "display_data"
    }
   ],
   "source": [
    "disp = ConfusionMatrixDisplay(confusion_matrix=CMS['dt_model06'], display_labels=dt_model06.classes_)\n",
    "fig, ax = plt.subplots(figsize=(6, 6))\n",
    "plt.title('Decision Tree Model')\n",
    "plt.grid(None)\n",
    "disp.plot(ax=ax)"
   ]
  },
  {
   "cell_type": "code",
   "execution_count": null,
   "metadata": {},
   "outputs": [],
   "source": []
  }
 ],
 "metadata": {
  "kernelspec": {
   "display_name": "Python 3 (ipykernel)",
   "language": "python",
   "name": "python3"
  },
  "language_info": {
   "codemirror_mode": {
    "name": "ipython",
    "version": 3
   },
   "file_extension": ".py",
   "mimetype": "text/x-python",
   "name": "python",
   "nbconvert_exporter": "python",
   "pygments_lexer": "ipython3",
   "version": "3.11.5"
  }
 },
 "nbformat": 4,
 "nbformat_minor": 4
}
