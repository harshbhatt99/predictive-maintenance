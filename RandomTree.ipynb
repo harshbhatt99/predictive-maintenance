{
 "cells": [
  {
   "cell_type": "code",
   "execution_count": 3,
   "metadata": {
    "ExecuteTime": {
     "end_time": "2023-09-22T21:57:33.100510700Z",
     "start_time": "2023-09-22T21:57:33.082990Z"
    }
   },
   "outputs": [],
   "source": [
    "import pandas as pd\n",
    "import numpy as np\n",
    "import matplotlib.pyplot as plt\n",
    "import seaborn as sns"
   ]
  },
  {
   "cell_type": "code",
   "execution_count": 4,
   "metadata": {
    "ExecuteTime": {
     "end_time": "2023-09-22T21:57:33.150575500Z",
     "start_time": "2023-09-22T21:57:33.087993700Z"
    }
   },
   "outputs": [
    {
     "data": {
      "text/plain": "   UDI Product ID Type  Air temperature [K]  Process temperature [K]  \\\n0    1     M14860    M                298.1                    308.6   \n1    2     L47181    L                298.2                    308.7   \n2    3     L47182    L                298.1                    308.5   \n3    4     L47183    L                298.2                    308.6   \n4    5     L47184    L                298.2                    308.7   \n\n   Rotational speed [rpm]  Torque [Nm]  Tool wear [min]  Machine failure  TWF  \\\n0                    1551         42.8                0                0    0   \n1                    1408         46.3                3                0    0   \n2                    1498         49.4                5                0    0   \n3                    1433         39.5                7                0    0   \n4                    1408         40.0                9                0    0   \n\n   HDF  PWF  OSF  RNF  \n0    0    0    0    0  \n1    0    0    0    0  \n2    0    0    0    0  \n3    0    0    0    0  \n4    0    0    0    0  ",
      "text/html": "<div>\n<style scoped>\n    .dataframe tbody tr th:only-of-type {\n        vertical-align: middle;\n    }\n\n    .dataframe tbody tr th {\n        vertical-align: top;\n    }\n\n    .dataframe thead th {\n        text-align: right;\n    }\n</style>\n<table border=\"1\" class=\"dataframe\">\n  <thead>\n    <tr style=\"text-align: right;\">\n      <th></th>\n      <th>UDI</th>\n      <th>Product ID</th>\n      <th>Type</th>\n      <th>Air temperature [K]</th>\n      <th>Process temperature [K]</th>\n      <th>Rotational speed [rpm]</th>\n      <th>Torque [Nm]</th>\n      <th>Tool wear [min]</th>\n      <th>Machine failure</th>\n      <th>TWF</th>\n      <th>HDF</th>\n      <th>PWF</th>\n      <th>OSF</th>\n      <th>RNF</th>\n    </tr>\n  </thead>\n  <tbody>\n    <tr>\n      <th>0</th>\n      <td>1</td>\n      <td>M14860</td>\n      <td>M</td>\n      <td>298.1</td>\n      <td>308.6</td>\n      <td>1551</td>\n      <td>42.8</td>\n      <td>0</td>\n      <td>0</td>\n      <td>0</td>\n      <td>0</td>\n      <td>0</td>\n      <td>0</td>\n      <td>0</td>\n    </tr>\n    <tr>\n      <th>1</th>\n      <td>2</td>\n      <td>L47181</td>\n      <td>L</td>\n      <td>298.2</td>\n      <td>308.7</td>\n      <td>1408</td>\n      <td>46.3</td>\n      <td>3</td>\n      <td>0</td>\n      <td>0</td>\n      <td>0</td>\n      <td>0</td>\n      <td>0</td>\n      <td>0</td>\n    </tr>\n    <tr>\n      <th>2</th>\n      <td>3</td>\n      <td>L47182</td>\n      <td>L</td>\n      <td>298.1</td>\n      <td>308.5</td>\n      <td>1498</td>\n      <td>49.4</td>\n      <td>5</td>\n      <td>0</td>\n      <td>0</td>\n      <td>0</td>\n      <td>0</td>\n      <td>0</td>\n      <td>0</td>\n    </tr>\n    <tr>\n      <th>3</th>\n      <td>4</td>\n      <td>L47183</td>\n      <td>L</td>\n      <td>298.2</td>\n      <td>308.6</td>\n      <td>1433</td>\n      <td>39.5</td>\n      <td>7</td>\n      <td>0</td>\n      <td>0</td>\n      <td>0</td>\n      <td>0</td>\n      <td>0</td>\n      <td>0</td>\n    </tr>\n    <tr>\n      <th>4</th>\n      <td>5</td>\n      <td>L47184</td>\n      <td>L</td>\n      <td>298.2</td>\n      <td>308.7</td>\n      <td>1408</td>\n      <td>40.0</td>\n      <td>9</td>\n      <td>0</td>\n      <td>0</td>\n      <td>0</td>\n      <td>0</td>\n      <td>0</td>\n      <td>0</td>\n    </tr>\n  </tbody>\n</table>\n</div>"
     },
     "execution_count": 4,
     "metadata": {},
     "output_type": "execute_result"
    }
   ],
   "source": [
    "df = pd.read_csv(\"./ai4i2020.csv\")\n",
    "df.head(5)"
   ]
  },
  {
   "cell_type": "code",
   "execution_count": 5,
   "metadata": {
    "ExecuteTime": {
     "end_time": "2023-09-22T21:57:33.151579500Z",
     "start_time": "2023-09-22T21:57:33.123131300Z"
    }
   },
   "outputs": [
    {
     "data": {
      "text/plain": "     Type  Air temperature [K]  Process temperature [K]  \\\n0       M                298.1                    308.6   \n1       L                298.2                    308.7   \n2       L                298.1                    308.5   \n3       L                298.2                    308.6   \n4       L                298.2                    308.7   \n...   ...                  ...                      ...   \n9995    M                298.8                    308.4   \n9996    H                298.9                    308.4   \n9997    M                299.0                    308.6   \n9998    H                299.0                    308.7   \n9999    M                299.0                    308.7   \n\n      Rotational speed [rpm]  Torque [Nm]  Tool wear [min]  Machine failure  \\\n0                       1551         42.8                0                0   \n1                       1408         46.3                3                0   \n2                       1498         49.4                5                0   \n3                       1433         39.5                7                0   \n4                       1408         40.0                9                0   \n...                      ...          ...              ...              ...   \n9995                    1604         29.5               14                0   \n9996                    1632         31.8               17                0   \n9997                    1645         33.4               22                0   \n9998                    1408         48.5               25                0   \n9999                    1500         40.2               30                0   \n\n      TWF  HDF  PWF  OSF  RNF  \n0       0    0    0    0    0  \n1       0    0    0    0    0  \n2       0    0    0    0    0  \n3       0    0    0    0    0  \n4       0    0    0    0    0  \n...   ...  ...  ...  ...  ...  \n9995    0    0    0    0    0  \n9996    0    0    0    0    0  \n9997    0    0    0    0    0  \n9998    0    0    0    0    0  \n9999    0    0    0    0    0  \n\n[10000 rows x 12 columns]",
      "text/html": "<div>\n<style scoped>\n    .dataframe tbody tr th:only-of-type {\n        vertical-align: middle;\n    }\n\n    .dataframe tbody tr th {\n        vertical-align: top;\n    }\n\n    .dataframe thead th {\n        text-align: right;\n    }\n</style>\n<table border=\"1\" class=\"dataframe\">\n  <thead>\n    <tr style=\"text-align: right;\">\n      <th></th>\n      <th>Type</th>\n      <th>Air temperature [K]</th>\n      <th>Process temperature [K]</th>\n      <th>Rotational speed [rpm]</th>\n      <th>Torque [Nm]</th>\n      <th>Tool wear [min]</th>\n      <th>Machine failure</th>\n      <th>TWF</th>\n      <th>HDF</th>\n      <th>PWF</th>\n      <th>OSF</th>\n      <th>RNF</th>\n    </tr>\n  </thead>\n  <tbody>\n    <tr>\n      <th>0</th>\n      <td>M</td>\n      <td>298.1</td>\n      <td>308.6</td>\n      <td>1551</td>\n      <td>42.8</td>\n      <td>0</td>\n      <td>0</td>\n      <td>0</td>\n      <td>0</td>\n      <td>0</td>\n      <td>0</td>\n      <td>0</td>\n    </tr>\n    <tr>\n      <th>1</th>\n      <td>L</td>\n      <td>298.2</td>\n      <td>308.7</td>\n      <td>1408</td>\n      <td>46.3</td>\n      <td>3</td>\n      <td>0</td>\n      <td>0</td>\n      <td>0</td>\n      <td>0</td>\n      <td>0</td>\n      <td>0</td>\n    </tr>\n    <tr>\n      <th>2</th>\n      <td>L</td>\n      <td>298.1</td>\n      <td>308.5</td>\n      <td>1498</td>\n      <td>49.4</td>\n      <td>5</td>\n      <td>0</td>\n      <td>0</td>\n      <td>0</td>\n      <td>0</td>\n      <td>0</td>\n      <td>0</td>\n    </tr>\n    <tr>\n      <th>3</th>\n      <td>L</td>\n      <td>298.2</td>\n      <td>308.6</td>\n      <td>1433</td>\n      <td>39.5</td>\n      <td>7</td>\n      <td>0</td>\n      <td>0</td>\n      <td>0</td>\n      <td>0</td>\n      <td>0</td>\n      <td>0</td>\n    </tr>\n    <tr>\n      <th>4</th>\n      <td>L</td>\n      <td>298.2</td>\n      <td>308.7</td>\n      <td>1408</td>\n      <td>40.0</td>\n      <td>9</td>\n      <td>0</td>\n      <td>0</td>\n      <td>0</td>\n      <td>0</td>\n      <td>0</td>\n      <td>0</td>\n    </tr>\n    <tr>\n      <th>...</th>\n      <td>...</td>\n      <td>...</td>\n      <td>...</td>\n      <td>...</td>\n      <td>...</td>\n      <td>...</td>\n      <td>...</td>\n      <td>...</td>\n      <td>...</td>\n      <td>...</td>\n      <td>...</td>\n      <td>...</td>\n    </tr>\n    <tr>\n      <th>9995</th>\n      <td>M</td>\n      <td>298.8</td>\n      <td>308.4</td>\n      <td>1604</td>\n      <td>29.5</td>\n      <td>14</td>\n      <td>0</td>\n      <td>0</td>\n      <td>0</td>\n      <td>0</td>\n      <td>0</td>\n      <td>0</td>\n    </tr>\n    <tr>\n      <th>9996</th>\n      <td>H</td>\n      <td>298.9</td>\n      <td>308.4</td>\n      <td>1632</td>\n      <td>31.8</td>\n      <td>17</td>\n      <td>0</td>\n      <td>0</td>\n      <td>0</td>\n      <td>0</td>\n      <td>0</td>\n      <td>0</td>\n    </tr>\n    <tr>\n      <th>9997</th>\n      <td>M</td>\n      <td>299.0</td>\n      <td>308.6</td>\n      <td>1645</td>\n      <td>33.4</td>\n      <td>22</td>\n      <td>0</td>\n      <td>0</td>\n      <td>0</td>\n      <td>0</td>\n      <td>0</td>\n      <td>0</td>\n    </tr>\n    <tr>\n      <th>9998</th>\n      <td>H</td>\n      <td>299.0</td>\n      <td>308.7</td>\n      <td>1408</td>\n      <td>48.5</td>\n      <td>25</td>\n      <td>0</td>\n      <td>0</td>\n      <td>0</td>\n      <td>0</td>\n      <td>0</td>\n      <td>0</td>\n    </tr>\n    <tr>\n      <th>9999</th>\n      <td>M</td>\n      <td>299.0</td>\n      <td>308.7</td>\n      <td>1500</td>\n      <td>40.2</td>\n      <td>30</td>\n      <td>0</td>\n      <td>0</td>\n      <td>0</td>\n      <td>0</td>\n      <td>0</td>\n      <td>0</td>\n    </tr>\n  </tbody>\n</table>\n<p>10000 rows × 12 columns</p>\n</div>"
     },
     "execution_count": 5,
     "metadata": {},
     "output_type": "execute_result"
    }
   ],
   "source": [
    "df = df.drop(['UDI','Product ID'], axis=1)\n",
    "df"
   ]
  },
  {
   "cell_type": "code",
   "execution_count": 6,
   "metadata": {
    "ExecuteTime": {
     "end_time": "2023-09-22T21:57:33.152579900Z",
     "start_time": "2023-09-22T21:57:33.134881400Z"
    }
   },
   "outputs": [
    {
     "data": {
      "text/plain": "     Type\n0       M\n1       L\n2       L\n3       L\n4       L\n...   ...\n9995    M\n9996    H\n9997    M\n9998    H\n9999    M\n\n[10000 rows x 1 columns]",
      "text/html": "<div>\n<style scoped>\n    .dataframe tbody tr th:only-of-type {\n        vertical-align: middle;\n    }\n\n    .dataframe tbody tr th {\n        vertical-align: top;\n    }\n\n    .dataframe thead th {\n        text-align: right;\n    }\n</style>\n<table border=\"1\" class=\"dataframe\">\n  <thead>\n    <tr style=\"text-align: right;\">\n      <th></th>\n      <th>Type</th>\n    </tr>\n  </thead>\n  <tbody>\n    <tr>\n      <th>0</th>\n      <td>M</td>\n    </tr>\n    <tr>\n      <th>1</th>\n      <td>L</td>\n    </tr>\n    <tr>\n      <th>2</th>\n      <td>L</td>\n    </tr>\n    <tr>\n      <th>3</th>\n      <td>L</td>\n    </tr>\n    <tr>\n      <th>4</th>\n      <td>L</td>\n    </tr>\n    <tr>\n      <th>...</th>\n      <td>...</td>\n    </tr>\n    <tr>\n      <th>9995</th>\n      <td>M</td>\n    </tr>\n    <tr>\n      <th>9996</th>\n      <td>H</td>\n    </tr>\n    <tr>\n      <th>9997</th>\n      <td>M</td>\n    </tr>\n    <tr>\n      <th>9998</th>\n      <td>H</td>\n    </tr>\n    <tr>\n      <th>9999</th>\n      <td>M</td>\n    </tr>\n  </tbody>\n</table>\n<p>10000 rows × 1 columns</p>\n</div>"
     },
     "execution_count": 6,
     "metadata": {},
     "output_type": "execute_result"
    }
   ],
   "source": [
    "df_cat = df[['Type']]\n",
    "df_cat"
   ]
  },
  {
   "cell_type": "code",
   "execution_count": 7,
   "metadata": {
    "ExecuteTime": {
     "end_time": "2023-09-22T21:57:33.152579900Z",
     "start_time": "2023-09-22T21:57:33.144369100Z"
    }
   },
   "outputs": [
    {
     "data": {
      "text/plain": "      Air temperature [K]  Process temperature [K]  Rotational speed [rpm]  \\\n0                   298.1                    308.6                    1551   \n1                   298.2                    308.7                    1408   \n2                   298.1                    308.5                    1498   \n3                   298.2                    308.6                    1433   \n4                   298.2                    308.7                    1408   \n...                   ...                      ...                     ...   \n9995                298.8                    308.4                    1604   \n9996                298.9                    308.4                    1632   \n9997                299.0                    308.6                    1645   \n9998                299.0                    308.7                    1408   \n9999                299.0                    308.7                    1500   \n\n      Torque [Nm]  Tool wear [min]  \n0            42.8                0  \n1            46.3                3  \n2            49.4                5  \n3            39.5                7  \n4            40.0                9  \n...           ...              ...  \n9995         29.5               14  \n9996         31.8               17  \n9997         33.4               22  \n9998         48.5               25  \n9999         40.2               30  \n\n[10000 rows x 5 columns]",
      "text/html": "<div>\n<style scoped>\n    .dataframe tbody tr th:only-of-type {\n        vertical-align: middle;\n    }\n\n    .dataframe tbody tr th {\n        vertical-align: top;\n    }\n\n    .dataframe thead th {\n        text-align: right;\n    }\n</style>\n<table border=\"1\" class=\"dataframe\">\n  <thead>\n    <tr style=\"text-align: right;\">\n      <th></th>\n      <th>Air temperature [K]</th>\n      <th>Process temperature [K]</th>\n      <th>Rotational speed [rpm]</th>\n      <th>Torque [Nm]</th>\n      <th>Tool wear [min]</th>\n    </tr>\n  </thead>\n  <tbody>\n    <tr>\n      <th>0</th>\n      <td>298.1</td>\n      <td>308.6</td>\n      <td>1551</td>\n      <td>42.8</td>\n      <td>0</td>\n    </tr>\n    <tr>\n      <th>1</th>\n      <td>298.2</td>\n      <td>308.7</td>\n      <td>1408</td>\n      <td>46.3</td>\n      <td>3</td>\n    </tr>\n    <tr>\n      <th>2</th>\n      <td>298.1</td>\n      <td>308.5</td>\n      <td>1498</td>\n      <td>49.4</td>\n      <td>5</td>\n    </tr>\n    <tr>\n      <th>3</th>\n      <td>298.2</td>\n      <td>308.6</td>\n      <td>1433</td>\n      <td>39.5</td>\n      <td>7</td>\n    </tr>\n    <tr>\n      <th>4</th>\n      <td>298.2</td>\n      <td>308.7</td>\n      <td>1408</td>\n      <td>40.0</td>\n      <td>9</td>\n    </tr>\n    <tr>\n      <th>...</th>\n      <td>...</td>\n      <td>...</td>\n      <td>...</td>\n      <td>...</td>\n      <td>...</td>\n    </tr>\n    <tr>\n      <th>9995</th>\n      <td>298.8</td>\n      <td>308.4</td>\n      <td>1604</td>\n      <td>29.5</td>\n      <td>14</td>\n    </tr>\n    <tr>\n      <th>9996</th>\n      <td>298.9</td>\n      <td>308.4</td>\n      <td>1632</td>\n      <td>31.8</td>\n      <td>17</td>\n    </tr>\n    <tr>\n      <th>9997</th>\n      <td>299.0</td>\n      <td>308.6</td>\n      <td>1645</td>\n      <td>33.4</td>\n      <td>22</td>\n    </tr>\n    <tr>\n      <th>9998</th>\n      <td>299.0</td>\n      <td>308.7</td>\n      <td>1408</td>\n      <td>48.5</td>\n      <td>25</td>\n    </tr>\n    <tr>\n      <th>9999</th>\n      <td>299.0</td>\n      <td>308.7</td>\n      <td>1500</td>\n      <td>40.2</td>\n      <td>30</td>\n    </tr>\n  </tbody>\n</table>\n<p>10000 rows × 5 columns</p>\n</div>"
     },
     "execution_count": 7,
     "metadata": {},
     "output_type": "execute_result"
    }
   ],
   "source": [
    "df_num = df.drop(['Type','Machine failure','TWF','HDF','PWF','OSF','RNF'], axis=1)\n",
    "df_num"
   ]
  },
  {
   "cell_type": "code",
   "execution_count": 8,
   "metadata": {
    "ExecuteTime": {
     "end_time": "2023-09-22T21:57:33.153582300Z",
     "start_time": "2023-09-22T21:57:33.148069500Z"
    }
   },
   "outputs": [],
   "source": [
    "from sklearn.preprocessing import MinMaxScaler\n",
    "scaler = MinMaxScaler()"
   ]
  },
  {
   "cell_type": "code",
   "execution_count": 9,
   "metadata": {
    "ExecuteTime": {
     "end_time": "2023-09-22T21:57:33.171620900Z",
     "start_time": "2023-09-22T21:57:33.151579500Z"
    }
   },
   "outputs": [
    {
     "data": {
      "text/plain": "array([[0.30434783, 0.35802469, 0.22293364, 0.53571429, 0.        ],\n       [0.31521739, 0.37037037, 0.13969732, 0.58379121, 0.01185771],\n       [0.30434783, 0.34567901, 0.19208382, 0.62637363, 0.01976285],\n       ...,\n       [0.40217391, 0.35802469, 0.27764843, 0.40659341, 0.08695652],\n       [0.40217391, 0.37037037, 0.13969732, 0.61401099, 0.09881423],\n       [0.40217391, 0.37037037, 0.19324796, 0.5       , 0.11857708]])"
     },
     "execution_count": 9,
     "metadata": {},
     "output_type": "execute_result"
    }
   ],
   "source": [
    "df_num = scaler.fit_transform(df_num)\n",
    "df_num"
   ]
  },
  {
   "cell_type": "code",
   "execution_count": 10,
   "metadata": {
    "ExecuteTime": {
     "end_time": "2023-09-22T21:57:33.172620400Z",
     "start_time": "2023-09-22T21:57:33.159198Z"
    }
   },
   "outputs": [
    {
     "data": {
      "text/plain": "      Air temperature [K]  Process temperature [K]  Rotational speed [rpm]  \\\n0                0.304348                 0.358025                0.222934   \n1                0.315217                 0.370370                0.139697   \n2                0.304348                 0.345679                0.192084   \n3                0.315217                 0.358025                0.154249   \n4                0.315217                 0.370370                0.139697   \n...                   ...                      ...                     ...   \n9995             0.380435                 0.333333                0.253783   \n9996             0.391304                 0.333333                0.270081   \n9997             0.402174                 0.358025                0.277648   \n9998             0.402174                 0.370370                0.139697   \n9999             0.402174                 0.370370                0.193248   \n\n      Torque [Nm]  Tool wear [min]  \n0        0.535714         0.000000  \n1        0.583791         0.011858  \n2        0.626374         0.019763  \n3        0.490385         0.027668  \n4        0.497253         0.035573  \n...           ...              ...  \n9995     0.353022         0.055336  \n9996     0.384615         0.067194  \n9997     0.406593         0.086957  \n9998     0.614011         0.098814  \n9999     0.500000         0.118577  \n\n[10000 rows x 5 columns]",
      "text/html": "<div>\n<style scoped>\n    .dataframe tbody tr th:only-of-type {\n        vertical-align: middle;\n    }\n\n    .dataframe tbody tr th {\n        vertical-align: top;\n    }\n\n    .dataframe thead th {\n        text-align: right;\n    }\n</style>\n<table border=\"1\" class=\"dataframe\">\n  <thead>\n    <tr style=\"text-align: right;\">\n      <th></th>\n      <th>Air temperature [K]</th>\n      <th>Process temperature [K]</th>\n      <th>Rotational speed [rpm]</th>\n      <th>Torque [Nm]</th>\n      <th>Tool wear [min]</th>\n    </tr>\n  </thead>\n  <tbody>\n    <tr>\n      <th>0</th>\n      <td>0.304348</td>\n      <td>0.358025</td>\n      <td>0.222934</td>\n      <td>0.535714</td>\n      <td>0.000000</td>\n    </tr>\n    <tr>\n      <th>1</th>\n      <td>0.315217</td>\n      <td>0.370370</td>\n      <td>0.139697</td>\n      <td>0.583791</td>\n      <td>0.011858</td>\n    </tr>\n    <tr>\n      <th>2</th>\n      <td>0.304348</td>\n      <td>0.345679</td>\n      <td>0.192084</td>\n      <td>0.626374</td>\n      <td>0.019763</td>\n    </tr>\n    <tr>\n      <th>3</th>\n      <td>0.315217</td>\n      <td>0.358025</td>\n      <td>0.154249</td>\n      <td>0.490385</td>\n      <td>0.027668</td>\n    </tr>\n    <tr>\n      <th>4</th>\n      <td>0.315217</td>\n      <td>0.370370</td>\n      <td>0.139697</td>\n      <td>0.497253</td>\n      <td>0.035573</td>\n    </tr>\n    <tr>\n      <th>...</th>\n      <td>...</td>\n      <td>...</td>\n      <td>...</td>\n      <td>...</td>\n      <td>...</td>\n    </tr>\n    <tr>\n      <th>9995</th>\n      <td>0.380435</td>\n      <td>0.333333</td>\n      <td>0.253783</td>\n      <td>0.353022</td>\n      <td>0.055336</td>\n    </tr>\n    <tr>\n      <th>9996</th>\n      <td>0.391304</td>\n      <td>0.333333</td>\n      <td>0.270081</td>\n      <td>0.384615</td>\n      <td>0.067194</td>\n    </tr>\n    <tr>\n      <th>9997</th>\n      <td>0.402174</td>\n      <td>0.358025</td>\n      <td>0.277648</td>\n      <td>0.406593</td>\n      <td>0.086957</td>\n    </tr>\n    <tr>\n      <th>9998</th>\n      <td>0.402174</td>\n      <td>0.370370</td>\n      <td>0.139697</td>\n      <td>0.614011</td>\n      <td>0.098814</td>\n    </tr>\n    <tr>\n      <th>9999</th>\n      <td>0.402174</td>\n      <td>0.370370</td>\n      <td>0.193248</td>\n      <td>0.500000</td>\n      <td>0.118577</td>\n    </tr>\n  </tbody>\n</table>\n<p>10000 rows × 5 columns</p>\n</div>"
     },
     "execution_count": 10,
     "metadata": {},
     "output_type": "execute_result"
    }
   ],
   "source": [
    "df_num = pd.DataFrame(df_num, columns = ['Air temperature [K]','Process temperature [K]','Rotational speed [rpm]'\n",
    "                                         ,'Torque [Nm]','Tool wear [min]'])\n",
    "df_num"
   ]
  },
  {
   "cell_type": "code",
   "execution_count": 11,
   "metadata": {
    "ExecuteTime": {
     "end_time": "2023-09-22T21:57:33.172620400Z",
     "start_time": "2023-09-22T21:57:33.165672100Z"
    }
   },
   "outputs": [],
   "source": [
    "# Alternate method for converting catagorical data to numerical data\n",
    "# from sklearn.preprocessing import OneHotEncoder\n",
    "# encoder = OneHotEncoder()\n",
    "# cat = encoder.fit_transform(df_cat[['Type']]).toarray()"
   ]
  },
  {
   "cell_type": "code",
   "execution_count": 12,
   "metadata": {
    "ExecuteTime": {
     "end_time": "2023-09-22T21:57:33.214195700Z",
     "start_time": "2023-09-22T21:57:33.169111100Z"
    }
   },
   "outputs": [
    {
     "data": {
      "text/plain": "      Type_H  Type_L  Type_M\n0        0.0     0.0     1.0\n1        0.0     1.0     0.0\n2        0.0     1.0     0.0\n3        0.0     1.0     0.0\n4        0.0     1.0     0.0\n...      ...     ...     ...\n9995     0.0     0.0     1.0\n9996     1.0     0.0     0.0\n9997     0.0     0.0     1.0\n9998     1.0     0.0     0.0\n9999     0.0     0.0     1.0\n\n[10000 rows x 3 columns]",
      "text/html": "<div>\n<style scoped>\n    .dataframe tbody tr th:only-of-type {\n        vertical-align: middle;\n    }\n\n    .dataframe tbody tr th {\n        vertical-align: top;\n    }\n\n    .dataframe thead th {\n        text-align: right;\n    }\n</style>\n<table border=\"1\" class=\"dataframe\">\n  <thead>\n    <tr style=\"text-align: right;\">\n      <th></th>\n      <th>Type_H</th>\n      <th>Type_L</th>\n      <th>Type_M</th>\n    </tr>\n  </thead>\n  <tbody>\n    <tr>\n      <th>0</th>\n      <td>0.0</td>\n      <td>0.0</td>\n      <td>1.0</td>\n    </tr>\n    <tr>\n      <th>1</th>\n      <td>0.0</td>\n      <td>1.0</td>\n      <td>0.0</td>\n    </tr>\n    <tr>\n      <th>2</th>\n      <td>0.0</td>\n      <td>1.0</td>\n      <td>0.0</td>\n    </tr>\n    <tr>\n      <th>3</th>\n      <td>0.0</td>\n      <td>1.0</td>\n      <td>0.0</td>\n    </tr>\n    <tr>\n      <th>4</th>\n      <td>0.0</td>\n      <td>1.0</td>\n      <td>0.0</td>\n    </tr>\n    <tr>\n      <th>...</th>\n      <td>...</td>\n      <td>...</td>\n      <td>...</td>\n    </tr>\n    <tr>\n      <th>9995</th>\n      <td>0.0</td>\n      <td>0.0</td>\n      <td>1.0</td>\n    </tr>\n    <tr>\n      <th>9996</th>\n      <td>1.0</td>\n      <td>0.0</td>\n      <td>0.0</td>\n    </tr>\n    <tr>\n      <th>9997</th>\n      <td>0.0</td>\n      <td>0.0</td>\n      <td>1.0</td>\n    </tr>\n    <tr>\n      <th>9998</th>\n      <td>1.0</td>\n      <td>0.0</td>\n      <td>0.0</td>\n    </tr>\n    <tr>\n      <th>9999</th>\n      <td>0.0</td>\n      <td>0.0</td>\n      <td>1.0</td>\n    </tr>\n  </tbody>\n</table>\n<p>10000 rows × 3 columns</p>\n</div>"
     },
     "execution_count": 12,
     "metadata": {},
     "output_type": "execute_result"
    }
   ],
   "source": [
    "cat = pd.get_dummies(df_cat[['Type']], dtype=float)\n",
    "df_cat = pd.DataFrame(cat)\n",
    "\n",
    "df_cat"
   ]
  },
  {
   "cell_type": "code",
   "execution_count": 13,
   "metadata": {
    "ExecuteTime": {
     "end_time": "2023-09-22T21:57:33.256230900Z",
     "start_time": "2023-09-22T21:57:33.179254800Z"
    }
   },
   "outputs": [
    {
     "data": {
      "text/plain": "Index(['Type_H', 'Type_L', 'Type_M', 'Air temperature [K]',\n       'Process temperature [K]', 'Rotational speed [rpm]', 'Torque [Nm]',\n       'Tool wear [min]'],\n      dtype='object')"
     },
     "execution_count": 13,
     "metadata": {},
     "output_type": "execute_result"
    }
   ],
   "source": [
    "X = pd.concat([df_cat,df_num],axis=1)\n",
    "X\n",
    "X.columns"
   ]
  },
  {
   "cell_type": "code",
   "execution_count": 14,
   "metadata": {
    "ExecuteTime": {
     "end_time": "2023-09-22T21:57:33.282757800Z",
     "start_time": "2023-09-22T21:57:33.183807300Z"
    }
   },
   "outputs": [
    {
     "data": {
      "text/plain": "      Machine failure\n0                   0\n1                   0\n2                   0\n3                   0\n4                   0\n...               ...\n9995                0\n9996                0\n9997                0\n9998                0\n9999                0\n\n[10000 rows x 1 columns]",
      "text/html": "<div>\n<style scoped>\n    .dataframe tbody tr th:only-of-type {\n        vertical-align: middle;\n    }\n\n    .dataframe tbody tr th {\n        vertical-align: top;\n    }\n\n    .dataframe thead th {\n        text-align: right;\n    }\n</style>\n<table border=\"1\" class=\"dataframe\">\n  <thead>\n    <tr style=\"text-align: right;\">\n      <th></th>\n      <th>Machine failure</th>\n    </tr>\n  </thead>\n  <tbody>\n    <tr>\n      <th>0</th>\n      <td>0</td>\n    </tr>\n    <tr>\n      <th>1</th>\n      <td>0</td>\n    </tr>\n    <tr>\n      <th>2</th>\n      <td>0</td>\n    </tr>\n    <tr>\n      <th>3</th>\n      <td>0</td>\n    </tr>\n    <tr>\n      <th>4</th>\n      <td>0</td>\n    </tr>\n    <tr>\n      <th>...</th>\n      <td>...</td>\n    </tr>\n    <tr>\n      <th>9995</th>\n      <td>0</td>\n    </tr>\n    <tr>\n      <th>9996</th>\n      <td>0</td>\n    </tr>\n    <tr>\n      <th>9997</th>\n      <td>0</td>\n    </tr>\n    <tr>\n      <th>9998</th>\n      <td>0</td>\n    </tr>\n    <tr>\n      <th>9999</th>\n      <td>0</td>\n    </tr>\n  </tbody>\n</table>\n<p>10000 rows × 1 columns</p>\n</div>"
     },
     "execution_count": 14,
     "metadata": {},
     "output_type": "execute_result"
    }
   ],
   "source": [
    "y = df[['Machine failure']]\n",
    "y"
   ]
  },
  {
   "cell_type": "code",
   "execution_count": 21,
   "metadata": {
    "ExecuteTime": {
     "end_time": "2023-09-22T21:59:37.939005700Z",
     "start_time": "2023-09-22T21:59:37.936005500Z"
    }
   },
   "outputs": [],
   "source": [
    "from sklearn.model_selection import train_test_split\n",
    "X_train, X_test, y_train, y_test = train_test_split(X,y,test_size=0.8,random_state=101)"
   ]
  },
  {
   "cell_type": "code",
   "execution_count": 22,
   "metadata": {
    "ExecuteTime": {
     "end_time": "2023-09-22T21:59:40.005354200Z",
     "start_time": "2023-09-22T21:59:40.002348600Z"
    }
   },
   "outputs": [
    {
     "name": "stdout",
     "output_type": "stream",
     "text": [
      "(2000, 8)\n",
      "(8000, 8)\n",
      "(2000, 1)\n",
      "(8000, 1)\n"
     ]
    }
   ],
   "source": [
    "print(X_train.shape)\n",
    "print(X_test.shape)\n",
    "print(y_train.shape)\n",
    "print(y_test.shape)"
   ]
  },
  {
   "cell_type": "code",
   "execution_count": 23,
   "metadata": {
    "ExecuteTime": {
     "end_time": "2023-09-22T21:59:41.574472800Z",
     "start_time": "2023-09-22T21:59:41.570960Z"
    }
   },
   "outputs": [],
   "source": [
    "from sklearn.datasets import load_iris\n",
    "from sklearn.metrics import f1_score, accuracy_score, roc_auc_score, classification_report\n",
    "from sklearn.tree import DecisionTreeClassifier\n",
    "from sklearn.tree import export_graphviz\n",
    "from graphviz import Source\n",
    "from sklearn.metrics import confusion_matrix\n",
    "\n",
    "\n",
    "target_names=[\"Machine Failure\"]\n"
   ]
  },
  {
   "cell_type": "code",
   "execution_count": 26,
   "outputs": [
    {
     "name": "stderr",
     "output_type": "stream",
     "text": [
      "C:\\Users\\Rober\\anaconda3\\Lib\\site-packages\\sklearn\\metrics\\_classification.py:2555: UserWarning: labels size, 2, does not match size of target_names, 1\n",
      "  warnings.warn(\n"
     ]
    }
   ],
   "source": [
    "#FIRST DRAFT\n",
    "#FITTING\n",
    "dt_model = DecisionTreeClassifier().fit(X_train, y_train)\n",
    "#PREDICTING\n",
    "dt_prediction = dt_model.predict(X_test)\n",
    "#STATS\n",
    "dt_acc = accuracy_score(y_test,dt_prediction)\n",
    "dt_cm = confusion_matrix(y_test, dt_prediction)\n",
    "#classification report\n",
    "target_names=[\"Machine Failure\"]\n",
    "\n",
    "\n",
    "dt_report = classification_report(y_test, dt_prediction, labels=[0,1], target_names=target_names)\n",
    "\n"
   ],
   "metadata": {
    "collapsed": false,
    "ExecuteTime": {
     "end_time": "2023-09-22T22:00:02.568882900Z",
     "start_time": "2023-09-22T22:00:02.551388400Z"
    }
   }
  },
  {
   "cell_type": "code",
   "execution_count": 73,
   "outputs": [
    {
     "name": "stderr",
     "output_type": "stream",
     "text": [
      "C:\\Users\\Rober\\anaconda3\\Lib\\site-packages\\sklearn\\metrics\\_classification.py:2555: UserWarning: labels size, 2, does not match size of target_names, 1\n",
      "  warnings.warn(\n"
     ]
    }
   ],
   "source": [
    "#VALIDATION TEST\n",
    "from sklearn.model_selection import cross_validate\n",
    "from sklearn.metrics import make_scorer, accuracy_score, precision_score, recall_score\n",
    "#This code selects which scores will be used in the cross validation estimator\n",
    "\n",
    "scoring = {'acc': 'accuracy',\n",
    "           'prec_macro': 'precision_macro',\n",
    "           'rec_micro': 'recall_macro'}\n",
    "#FITTING\n",
    "decision_tree_model = DecisionTreeClassifier().fit(X_train, y_train)\n",
    "#PREDICTING\n",
    "decision_tree_prediction = decision_tree_model.predict(X_test)\n",
    "#STATS\n",
    "decision_tree_acc = accuracy_score(y_test,decision_tree_prediction)\n",
    "decision_tree_cm = confusion_matrix(y_test, decision_tree_prediction)\n",
    "#classification report\n",
    "target_names=[\"Machine Failure\"]\n",
    "decision_tree_report = classification_report(y_test, decision_tree_prediction, labels=[0,1], target_names=target_names)\n",
    "#CROSS VALIDATION\n",
    "decision_tree_cv_scores = cross_validate(decision_tree_model, X, y, cv=5, scoring=scoring)\n"
   ],
   "metadata": {
    "collapsed": false,
    "ExecuteTime": {
     "end_time": "2023-09-22T23:12:19.292117500Z",
     "start_time": "2023-09-22T23:12:19.126340800Z"
    }
   }
  },
  {
   "cell_type": "code",
   "execution_count": 74,
   "outputs": [
    {
     "name": "stdout",
     "output_type": "stream",
     "text": [
      "0.973875\n",
      "[[7619  100]\n",
      " [ 109  172]]\n",
      "                 precision    recall  f1-score   support\n",
      "\n",
      "Machine Failure       0.99      0.99      0.99      7719\n",
      "\n",
      "       accuracy                           0.97      8000\n",
      "      macro avg       0.81      0.80      0.80      8000\n",
      "   weighted avg       0.97      0.97      0.97      8000\n",
      "\n",
      "{'fit_time': array([0.02202749, 0.02001929, 0.02301526, 0.01901722, 0.01801825]), 'score_time': array([0.00700283, 0.0071342 , 0.00650787, 0.00750709, 0.0085113 ]), 'test_acc': array([0.9665, 0.964 , 0.536 , 0.952 , 0.98  ]), 'test_prec_macro': array([0.74449686, 0.72380905, 0.5248303 , 0.65394593, 0.86831276]), 'test_rec_micro': array([0.83138498, 0.70469492, 0.68889295, 0.68429546, 0.80520034])}\n"
     ]
    }
   ],
   "source": [
    "print(decision_tree_acc)\n",
    "print(decision_tree_cm)\n",
    "print(decision_tree_report)\n",
    "print(decision_tree_cv_scores)"
   ],
   "metadata": {
    "collapsed": false,
    "ExecuteTime": {
     "end_time": "2023-09-22T23:12:22.201484400Z",
     "start_time": "2023-09-22T23:12:22.196833500Z"
    }
   }
  },
  {
   "cell_type": "markdown",
   "source": [],
   "metadata": {
    "collapsed": false
   }
  },
  {
   "cell_type": "markdown",
   "source": [
    "Random forest   "
   ],
   "metadata": {
    "collapsed": false
   }
  },
  {
   "cell_type": "code",
   "execution_count": 29,
   "outputs": [
    {
     "data": {
      "text/plain": "RandomForestClassifier(n_estimators=10)",
      "text/html": "<style>#sk-container-id-1 {color: black;}#sk-container-id-1 pre{padding: 0;}#sk-container-id-1 div.sk-toggleable {background-color: white;}#sk-container-id-1 label.sk-toggleable__label {cursor: pointer;display: block;width: 100%;margin-bottom: 0;padding: 0.3em;box-sizing: border-box;text-align: center;}#sk-container-id-1 label.sk-toggleable__label-arrow:before {content: \"▸\";float: left;margin-right: 0.25em;color: #696969;}#sk-container-id-1 label.sk-toggleable__label-arrow:hover:before {color: black;}#sk-container-id-1 div.sk-estimator:hover label.sk-toggleable__label-arrow:before {color: black;}#sk-container-id-1 div.sk-toggleable__content {max-height: 0;max-width: 0;overflow: hidden;text-align: left;background-color: #f0f8ff;}#sk-container-id-1 div.sk-toggleable__content pre {margin: 0.2em;color: black;border-radius: 0.25em;background-color: #f0f8ff;}#sk-container-id-1 input.sk-toggleable__control:checked~div.sk-toggleable__content {max-height: 200px;max-width: 100%;overflow: auto;}#sk-container-id-1 input.sk-toggleable__control:checked~label.sk-toggleable__label-arrow:before {content: \"▾\";}#sk-container-id-1 div.sk-estimator input.sk-toggleable__control:checked~label.sk-toggleable__label {background-color: #d4ebff;}#sk-container-id-1 div.sk-label input.sk-toggleable__control:checked~label.sk-toggleable__label {background-color: #d4ebff;}#sk-container-id-1 input.sk-hidden--visually {border: 0;clip: rect(1px 1px 1px 1px);clip: rect(1px, 1px, 1px, 1px);height: 1px;margin: -1px;overflow: hidden;padding: 0;position: absolute;width: 1px;}#sk-container-id-1 div.sk-estimator {font-family: monospace;background-color: #f0f8ff;border: 1px dotted black;border-radius: 0.25em;box-sizing: border-box;margin-bottom: 0.5em;}#sk-container-id-1 div.sk-estimator:hover {background-color: #d4ebff;}#sk-container-id-1 div.sk-parallel-item::after {content: \"\";width: 100%;border-bottom: 1px solid gray;flex-grow: 1;}#sk-container-id-1 div.sk-label:hover label.sk-toggleable__label {background-color: #d4ebff;}#sk-container-id-1 div.sk-serial::before {content: \"\";position: absolute;border-left: 1px solid gray;box-sizing: border-box;top: 0;bottom: 0;left: 50%;z-index: 0;}#sk-container-id-1 div.sk-serial {display: flex;flex-direction: column;align-items: center;background-color: white;padding-right: 0.2em;padding-left: 0.2em;position: relative;}#sk-container-id-1 div.sk-item {position: relative;z-index: 1;}#sk-container-id-1 div.sk-parallel {display: flex;align-items: stretch;justify-content: center;background-color: white;position: relative;}#sk-container-id-1 div.sk-item::before, #sk-container-id-1 div.sk-parallel-item::before {content: \"\";position: absolute;border-left: 1px solid gray;box-sizing: border-box;top: 0;bottom: 0;left: 50%;z-index: -1;}#sk-container-id-1 div.sk-parallel-item {display: flex;flex-direction: column;z-index: 1;position: relative;background-color: white;}#sk-container-id-1 div.sk-parallel-item:first-child::after {align-self: flex-end;width: 50%;}#sk-container-id-1 div.sk-parallel-item:last-child::after {align-self: flex-start;width: 50%;}#sk-container-id-1 div.sk-parallel-item:only-child::after {width: 0;}#sk-container-id-1 div.sk-dashed-wrapped {border: 1px dashed gray;margin: 0 0.4em 0.5em 0.4em;box-sizing: border-box;padding-bottom: 0.4em;background-color: white;}#sk-container-id-1 div.sk-label label {font-family: monospace;font-weight: bold;display: inline-block;line-height: 1.2em;}#sk-container-id-1 div.sk-label-container {text-align: center;}#sk-container-id-1 div.sk-container {/* jupyter's `normalize.less` sets `[hidden] { display: none; }` but bootstrap.min.css set `[hidden] { display: none !important; }` so we also need the `!important` here to be able to override the default hidden behavior on the sphinx rendered scikit-learn.org. See: https://github.com/scikit-learn/scikit-learn/issues/21755 */display: inline-block !important;position: relative;}#sk-container-id-1 div.sk-text-repr-fallback {display: none;}</style><div id=\"sk-container-id-1\" class=\"sk-top-container\"><div class=\"sk-text-repr-fallback\"><pre>RandomForestClassifier(n_estimators=10)</pre><b>In a Jupyter environment, please rerun this cell to show the HTML representation or trust the notebook. <br />On GitHub, the HTML representation is unable to render, please try loading this page with nbviewer.org.</b></div><div class=\"sk-container\" hidden><div class=\"sk-item\"><div class=\"sk-estimator sk-toggleable\"><input class=\"sk-toggleable__control sk-hidden--visually\" id=\"sk-estimator-id-1\" type=\"checkbox\" checked><label for=\"sk-estimator-id-1\" class=\"sk-toggleable__label sk-toggleable__label-arrow\">RandomForestClassifier</label><div class=\"sk-toggleable__content\"><pre>RandomForestClassifier(n_estimators=10)</pre></div></div></div></div></div>"
     },
     "execution_count": 29,
     "metadata": {},
     "output_type": "execute_result"
    }
   ],
   "source": [
    "\n",
    "\n",
    "\n"
   ],
   "metadata": {
    "collapsed": false,
    "ExecuteTime": {
     "end_time": "2023-09-22T22:02:02.582487700Z",
     "start_time": "2023-09-22T22:02:02.539401600Z"
    }
   }
  },
  {
   "cell_type": "code",
   "execution_count": 30,
   "outputs": [
    {
     "name": "stderr",
     "output_type": "stream",
     "text": [
      "C:\\Users\\Rober\\anaconda3\\Lib\\site-packages\\sklearn\\metrics\\_classification.py:2555: UserWarning: labels size, 2, does not match size of target_names, 1\n",
      "  warnings.warn(\n"
     ]
    }
   ],
   "source": [
    "# DRAFT\n",
    "from sklearn.ensemble import RandomForestClassifier\n",
    "\n",
    "rf_model =  RandomForestClassifier(n_estimators=10)\n",
    "rf_model.fit(X_train, y_train.values.ravel())\n",
    "\n",
    "\n",
    "rf_prediction = rf_model.predict(X_test)\n",
    "rf_cm = confusion_matrix(y_test, rf_prediction)\n",
    "dt_acc = accuracy_score(y_test,rf_prediction)\n",
    "target_names=[\"Machine Failure\"]\n",
    "rf_report = classification_report(y_test, rf_prediction, labels=[0,1], target_names=target_names)\n",
    "print(rf_cm)\n",
    "print(dt_acc)\n",
    "print(rf_report)"
   ],
   "metadata": {
    "collapsed": false,
    "ExecuteTime": {
     "start_time": "2023-09-22T22:02:04.419420200Z"
    }
   }
  },
  {
   "cell_type": "code",
   "execution_count": null,
   "outputs": [],
   "source": [],
   "metadata": {
    "collapsed": false
   }
  },
  {
   "cell_type": "code",
   "execution_count": 76,
   "outputs": [
    {
     "name": "stderr",
     "output_type": "stream",
     "text": [
      "C:\\Users\\Rober\\anaconda3\\Lib\\site-packages\\sklearn\\metrics\\_classification.py:2555: UserWarning: labels size, 2, does not match size of target_names, 1\n",
      "  warnings.warn(\n"
     ]
    }
   ],
   "source": [
    "#VALIDATION TEST\n",
    "from sklearn.model_selection import cross_validate\n",
    "from sklearn.metrics import accuracy_score\n",
    "#This code selects which scores will be used in the cross validation estimator\n",
    "\n",
    "scoring = {'acc': 'accuracy',\n",
    "           'prec_macro': 'precision_macro',\n",
    "           'rec_micro': 'recall_macro'}\n",
    "#FITTING\n",
    "random_forest_model = RandomForestClassifier(n_estimators=10)\n",
    "random_forest_model.fit(X_train, y_train.values.ravel())\n",
    "#PREDICTING\n",
    "random_forest_prediction = random_forest_model.predict(X_test)\n",
    "#STATS\n",
    "random_forest_acc = accuracy_score(y_test,random_forest_prediction)\n",
    "random_forest_cm = confusion_matrix(y_test, random_forest_prediction)\n",
    "#classification report\n",
    "target_names=[\"Machine Failure\"]\n",
    "random_forest_report = classification_report(y_test, random_forest_prediction, labels=[0,1], target_names=target_names)\n",
    "#CROSS VALIDATION\n",
    "random_forest_cv_scores = cross_validate(decision_tree_model, X, y, cv=5, scoring=scoring)"
   ],
   "metadata": {
    "collapsed": false,
    "ExecuteTime": {
     "end_time": "2023-09-22T23:17:34.029302Z",
     "start_time": "2023-09-22T23:17:33.846952200Z"
    }
   }
  },
  {
   "cell_type": "code",
   "execution_count": 78,
   "outputs": [
    {
     "name": "stdout",
     "output_type": "stream",
     "text": [
      "0.9715\n",
      "[[7699   20]\n",
      " [ 208   73]]\n",
      "                 precision    recall  f1-score   support\n",
      "\n",
      "Machine Failure       0.97      1.00      0.99      7719\n",
      "\n",
      "       accuracy                           0.97      8000\n",
      "      macro avg       0.88      0.63      0.69      8000\n",
      "   weighted avg       0.97      0.97      0.96      8000\n",
      "\n",
      "{'fit_time': array([0.02286506, 0.01956463, 0.02401161, 0.01951551, 0.01801181]), 'score_time': array([0.00750589, 0.00650454, 0.0075078 , 0.00650692, 0.00800323]), 'test_acc': array([0.9655, 0.9635, 0.532 , 0.9515, 0.9805]), 'test_prec_macro': array([0.7384235 , 0.72009162, 0.52548099, 0.65647325, 0.86669898]), 'test_rec_micro': array([0.81645961, 0.70443612, 0.6939167 , 0.69822494, 0.81964742])}\n"
     ]
    }
   ],
   "source": [
    "print(random_forest_acc)\n",
    "print(random_forest_cm)\n",
    "print(random_forest_report)\n",
    "print(random_forest_cv_scores)\n"
   ],
   "metadata": {
    "collapsed": false,
    "ExecuteTime": {
     "end_time": "2023-09-22T23:20:27.411175300Z",
     "start_time": "2023-09-22T23:20:27.406193700Z"
    }
   }
  },
  {
   "cell_type": "code",
   "execution_count": 60,
   "outputs": [
    {
     "data": {
      "text/plain": "<Axes: >"
     },
     "execution_count": 60,
     "metadata": {},
     "output_type": "execute_result"
    },
    {
     "data": {
      "text/plain": "<Figure size 640x480 with 2 Axes>",
      "image/png": "[encoded data removed]"
     },
     "metadata": {},
     "output_type": "display_data"
    }
   ],
   "source": [
    "#VISUALIZATION DT CM\n",
    "labels = ['True Negative', 'False Positive', 'False Negative', 'True Positive']\n",
    "mat_counts = ['{0:0.0f}'.format(value) for value in dt_cm.flatten()]\n",
    "labels = [f'{label}\\n{count}' for label, count in zip(labels,mat_counts)]\n",
    "labels = np.asarray(labels).reshape(2,2)\n",
    "sns.heatmap(dt_cm, annot=labels, fmt='', cmap=\"BuGn\")"
   ],
   "metadata": {
    "collapsed": false,
    "ExecuteTime": {
     "end_time": "2023-09-22T22:29:28.606906400Z",
     "start_time": "2023-09-22T22:29:28.515575800Z"
    }
   }
  },
  {
   "cell_type": "code",
   "execution_count": 56,
   "outputs": [
    {
     "data": {
      "text/plain": "<Axes: >"
     },
     "execution_count": 56,
     "metadata": {},
     "output_type": "execute_result"
    },
    {
     "data": {
      "text/plain": "<Figure size 640x480 with 2 Axes>",
      "image/png": "[encoded data removed]"
     },
     "metadata": {},
     "output_type": "display_data"
    }
   ],
   "source": [
    "#VISUALIZATION RF CM\n",
    "labels = ['True Negative', 'False Positive', 'False Negative', 'True Positive']\n",
    "mat_counts = ['{0:0.0f}'.format(value) for value in rf_cm.flatten()]\n",
    "labels = [f'{label}\\n{count}' for label, count in zip(labels,mat_counts)]\n",
    "labels = np.asarray(labels).reshape(2,2)\n",
    "sns.heatmap(rf_cm, annot=labels, fmt='', cmap='BuGn')"
   ],
   "metadata": {
    "collapsed": false,
    "ExecuteTime": {
     "end_time": "2023-09-22T22:28:39.959869400Z",
     "start_time": "2023-09-22T22:28:39.858363200Z"
    }
   }
  },
  {
   "cell_type": "code",
   "execution_count": 66,
   "outputs": [
    {
     "data": {
      "text/plain": "Index(['Type_H', 'Type_L', 'Type_M', 'Air temperature [K]',\n       'Process temperature [K]', 'Rotational speed [rpm]', 'Torque [Nm]',\n       'Tool wear [min]'],\n      dtype='object')"
     },
     "execution_count": 66,
     "metadata": {},
     "output_type": "execute_result"
    }
   ],
   "source": [
    "X.columns"
   ],
   "metadata": {
    "collapsed": false,
    "ExecuteTime": {
     "end_time": "2023-09-20T18:18:10.805281800Z",
     "start_time": "2023-09-20T18:18:10.800333200Z"
    }
   }
  }
 ],
 "metadata": {
  "kernelspec": {
   "display_name": ".venv",
   "language": "python",
   "name": "python3"
  },
  "language_info": {
   "codemirror_mode": {
    "name": "ipython",
    "version": 3
   },
   "file_extension": ".py",
   "mimetype": "text/x-python",
   "name": "python",
   "nbconvert_exporter": "python",
   "pygments_lexer": "ipython3",
   "version": "3.8.3"
  },
  "orig_nbformat": 4
 },
 "nbformat": 4,
 "nbformat_minor": 2
}
